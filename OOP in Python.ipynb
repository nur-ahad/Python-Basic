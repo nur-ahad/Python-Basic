{
 "cells": [
  {
   "cell_type": "code",
   "execution_count": 1,
   "id": "c007a60b",
   "metadata": {},
   "outputs": [],
   "source": [
    "#Class \n",
    "\n",
    "class Kids:\n",
    "    \n",
    "    #Class Attribute \n",
    "    name =\"\"\n",
    "    age = 0\n",
    "\n",
    "#Creating Object1 \n",
    "kids1 = Kids()\n",
    "kids1.name =\"John\"\n",
    "kids1.age = 5 \n",
    "\n",
    "#Creating Object2\n",
    "kids2 =Kids()\n",
    "kids2.name =\"Christina\"\n",
    "kids2.age = 4\n",
    "\n",
    "#Creating Object3\n",
    "kids3 =Kids()\n",
    "kids3.name =\"Leidia\"\n",
    "kids3.age = 6\n",
    "\n",
    "#Creating Object4\n",
    "kids4= Kids()\n",
    "kids4.name =\"Sharon\"\n",
    "kids4.age = 4"
   ]
  },
  {
   "cell_type": "code",
   "execution_count": 2,
   "id": "bbb63865",
   "metadata": {},
   "outputs": [
    {
     "name": "stdout",
     "output_type": "stream",
     "text": [
      "John is 5 years old\n"
     ]
    }
   ],
   "source": [
    "#Accessing Attributes \n",
    "print(f\"{kids1.name} is {kids1.age} years old\")"
   ]
  },
  {
   "cell_type": "code",
   "execution_count": 3,
   "id": "2d4d4645",
   "metadata": {},
   "outputs": [
    {
     "name": "stdout",
     "output_type": "stream",
     "text": [
      "Christina is 4 years old\n"
     ]
    }
   ],
   "source": [
    "print(f\"{kids2.name} is {kids2.age} years old\")"
   ]
  },
  {
   "cell_type": "code",
   "execution_count": 4,
   "id": "9fac3a26",
   "metadata": {},
   "outputs": [
    {
     "name": "stdout",
     "output_type": "stream",
     "text": [
      "Leidia is 6 years old\n"
     ]
    }
   ],
   "source": [
    "print(f\"{kids3.name} is {kids3.age} years old\")"
   ]
  },
  {
   "cell_type": "code",
   "execution_count": 5,
   "id": "f2e22940",
   "metadata": {},
   "outputs": [
    {
     "name": "stdout",
     "output_type": "stream",
     "text": [
      "Sharon is 4 years old\n"
     ]
    }
   ],
   "source": [
    "print(f\"{kids4.name} is {kids4.age} years old\")"
   ]
  },
  {
   "cell_type": "code",
   "execution_count": 8,
   "id": "5ff763ef",
   "metadata": {},
   "outputs": [
    {
     "name": "stdout",
     "output_type": "stream",
     "text": [
      "I can eat\n",
      "I can sleep\n",
      "I can bark!\n"
     ]
    }
   ],
   "source": [
    "#Inheritence \n",
    "\n",
    "#Parent/Base Class\n",
    "\n",
    "class Animal:\n",
    "    def eat(self):\n",
    "        print (\"I can eat\")\n",
    "        \n",
    "    def sleep(self):\n",
    "        print(\"I can sleep\")\n",
    "        \n",
    "\n",
    "#Derived/Inheritence Class\n",
    "\n",
    "class Cat(Animal):\n",
    "    \n",
    "    def bark(self):\n",
    "        print (\"I can bark!\")\n",
    "        \n",
    "\n",
    "#Creating object for derived class\n",
    "cat1 = Cat()\n",
    "\n",
    "#Calling Base Class Members \n",
    "cat1.eat()\n",
    "cat1.sleep()\n",
    "\n",
    "\n",
    "#Calling the Derived class Members \n",
    "cat1.bark()"
   ]
  },
  {
   "cell_type": "code",
   "execution_count": 13,
   "id": "7bfc5a97",
   "metadata": {},
   "outputs": [
    {
     "name": "stdout",
     "output_type": "stream",
     "text": [
      "Selling Price: 900\n"
     ]
    }
   ],
   "source": [
    "#Encapusulation \n",
    "\n",
    "class Computer:\n",
    "\n",
    "    def __init__(self):\n",
    "        self.__maxprice = 900\n",
    "\n",
    "    def sell(self):\n",
    "        print(\"Selling Price: {}\".format(self.__maxprice))\n",
    "\n",
    "    def setMaxPrice(self, price):\n",
    "        self.__maxprice = price\n",
    "\n",
    "c = Computer()\n",
    "c.sell()"
   ]
  },
  {
   "cell_type": "code",
   "execution_count": 14,
   "id": "8a61a725",
   "metadata": {},
   "outputs": [
    {
     "name": "stdout",
     "output_type": "stream",
     "text": [
      "Selling Price: 900\n"
     ]
    }
   ],
   "source": [
    "#Changing the price\n",
    "c._maxprice = 1000\n",
    "c.sell()"
   ]
  },
  {
   "cell_type": "code",
   "execution_count": 15,
   "id": "7e111cba",
   "metadata": {},
   "outputs": [
    {
     "name": "stdout",
     "output_type": "stream",
     "text": [
      "Selling Price: 1000\n"
     ]
    }
   ],
   "source": [
    "# using setter function \n",
    "c.setMaxPrice(1000)\n",
    "c.sell()"
   ]
  },
  {
   "cell_type": "code",
   "execution_count": 17,
   "id": "ca9713a1",
   "metadata": {},
   "outputs": [
    {
     "name": "stdout",
     "output_type": "stream",
     "text": [
      "Toyota\n",
      "Accord\n"
     ]
    }
   ],
   "source": [
    "#OOP in Python through One Example \n",
    "\n",
    "\n",
    "#Creating a class\n",
    "class Car:\n",
    "    def __init__(self, make, model, year):\n",
    "        self.make = make\n",
    "        self.model = model\n",
    "        self.year = year\n",
    "        self.is_running = False\n",
    "\n",
    "    def start_engine(self):\n",
    "        if not self.is_running:\n",
    "            self.is_running = True\n",
    "            print(f\"The {self.make} {self.model}'s engine is now running.\")\n",
    "        else:\n",
    "            print(f\"The {self.make} {self.model}'s engine is already running.\")\n",
    "\n",
    "    def stop_engine(self):\n",
    "        if self.is_running:\n",
    "            self.is_running = False\n",
    "            print(f\"The {self.make} {self.model}'s engine has been stopped.\")\n",
    "        else:\n",
    "            print(f\"The {self.make} {self.model}'s engine is already stopped.\")\n",
    "\n",
    "\n",
    "# Creating instances of the Car class\n",
    "car1 = Car(\"Toyota\", \"Camry\", 2022)\n",
    "car2 = Car(\"Honda\", \"Accord\", 2021)\n",
    "\n",
    "# Accessing object attributes\n",
    "print(car1.make) \n",
    "print(car2.model)"
   ]
  },
  {
   "cell_type": "code",
   "execution_count": 18,
   "id": "95448b99",
   "metadata": {},
   "outputs": [
    {
     "name": "stdout",
     "output_type": "stream",
     "text": [
      "The Toyota Camry's engine is now running.\n",
      "The Honda Accord's engine is now running.\n"
     ]
    }
   ],
   "source": [
    "#Calling Objects \n",
    "car1.start_engine()\n",
    "car2.start_engine()"
   ]
  },
  {
   "cell_type": "code",
   "execution_count": null,
   "id": "c12de0b2",
   "metadata": {},
   "outputs": [],
   "source": []
  }
 ],
 "metadata": {
  "kernelspec": {
   "display_name": "Python 3 (ipykernel)",
   "language": "python",
   "name": "python3"
  },
  "language_info": {
   "codemirror_mode": {
    "name": "ipython",
    "version": 3
   },
   "file_extension": ".py",
   "mimetype": "text/x-python",
   "name": "python",
   "nbconvert_exporter": "python",
   "pygments_lexer": "ipython3",
   "version": "3.9.13"
  }
 },
 "nbformat": 4,
 "nbformat_minor": 5
}
