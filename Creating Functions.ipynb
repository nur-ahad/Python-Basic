{
 "cells": [
  {
   "cell_type": "code",
   "execution_count": 1,
   "id": "8bd9b1cd",
   "metadata": {},
   "outputs": [],
   "source": [
    "#Basic Function Creation \n",
    "\n",
    "def function_name(arguments):\n",
    "    \n",
    "    return "
   ]
  },
  {
   "cell_type": "code",
   "execution_count": 2,
   "id": "81f3ff7a",
   "metadata": {},
   "outputs": [],
   "source": [
    "#Creating basic function (function without agruments)\n",
    "\n",
    "def greetings():\n",
    "    print (\"Good Morning\")"
   ]
  },
  {
   "cell_type": "code",
   "execution_count": 3,
   "id": "ae83e1c6",
   "metadata": {},
   "outputs": [
    {
     "name": "stdout",
     "output_type": "stream",
     "text": [
      "Good Morning\n"
     ]
    }
   ],
   "source": [
    "#Call the function \n",
    "greetings()"
   ]
  },
  {
   "cell_type": "code",
   "execution_count": 4,
   "id": "405ca070",
   "metadata": {},
   "outputs": [],
   "source": [
    "#Exp1 \n",
    "\n",
    "def cgpa():\n",
    "    print(\"3.68\")"
   ]
  },
  {
   "cell_type": "code",
   "execution_count": 5,
   "id": "3eab7f58",
   "metadata": {},
   "outputs": [
    {
     "name": "stdout",
     "output_type": "stream",
     "text": [
      "3.68\n"
     ]
    }
   ],
   "source": [
    "cgpa()"
   ]
  },
  {
   "cell_type": "code",
   "execution_count": 7,
   "id": "88fdab6c",
   "metadata": {},
   "outputs": [],
   "source": [
    "def cgpa():\n",
    "    print(\"3.10\")"
   ]
  },
  {
   "cell_type": "code",
   "execution_count": 8,
   "id": "8028572f",
   "metadata": {},
   "outputs": [
    {
     "name": "stdout",
     "output_type": "stream",
     "text": [
      "3.10\n"
     ]
    }
   ],
   "source": [
    "cgpa()"
   ]
  },
  {
   "cell_type": "code",
   "execution_count": 10,
   "id": "7aa903f2",
   "metadata": {},
   "outputs": [],
   "source": [
    "#Functions with agruments \n",
    "\n",
    "def add_numbers(num1,num2):\n",
    "    sum = num1 + num2\n",
    "    print('Sum:', sum)"
   ]
  },
  {
   "cell_type": "code",
   "execution_count": 11,
   "id": "914cb610",
   "metadata": {},
   "outputs": [
    {
     "name": "stdout",
     "output_type": "stream",
     "text": [
      "Sum: 15\n"
     ]
    }
   ],
   "source": [
    "#Calling the function \n",
    "add_numbers(10,5)"
   ]
  },
  {
   "cell_type": "code",
   "execution_count": 12,
   "id": "a608a735",
   "metadata": {},
   "outputs": [],
   "source": [
    "#Exp1 \n",
    "\n",
    "def multiplication(num1,num2):\n",
    "    multi = num1*num2\n",
    "    print('Result:',multi)"
   ]
  },
  {
   "cell_type": "code",
   "execution_count": 13,
   "id": "7378369a",
   "metadata": {},
   "outputs": [
    {
     "name": "stdout",
     "output_type": "stream",
     "text": [
      "Result: 20\n"
     ]
    }
   ],
   "source": [
    "multiplication(5,4)"
   ]
  },
  {
   "cell_type": "code",
   "execution_count": 14,
   "id": "420b5b41",
   "metadata": {},
   "outputs": [],
   "source": [
    "#Function with return type\n",
    "\n",
    "def add_numbers(num1,num2):\n",
    "    sum = num1 + num2\n",
    "    return sum"
   ]
  },
  {
   "cell_type": "code",
   "execution_count": 15,
   "id": "b577a6bb",
   "metadata": {},
   "outputs": [],
   "source": [
    "add = add_numbers(5,9)"
   ]
  },
  {
   "cell_type": "code",
   "execution_count": 16,
   "id": "005fe78b",
   "metadata": {},
   "outputs": [
    {
     "name": "stdout",
     "output_type": "stream",
     "text": [
      "Add: 14\n"
     ]
    }
   ],
   "source": [
    "print('Add:', add)"
   ]
  },
  {
   "cell_type": "code",
   "execution_count": 17,
   "id": "7d30122f",
   "metadata": {},
   "outputs": [],
   "source": [
    "#Functions with Default values of agruments \n",
    "\n",
    "def add_numbers(a=5, b=9):\n",
    "    sum = a + b\n",
    "    print('Sum:', sum)"
   ]
  },
  {
   "cell_type": "code",
   "execution_count": 18,
   "id": "ed248b75",
   "metadata": {},
   "outputs": [
    {
     "name": "stdout",
     "output_type": "stream",
     "text": [
      "Sum: 7\n"
     ]
    }
   ],
   "source": [
    "add_numbers(3,4)"
   ]
  },
  {
   "cell_type": "code",
   "execution_count": 19,
   "id": "cfe63582",
   "metadata": {},
   "outputs": [
    {
     "name": "stdout",
     "output_type": "stream",
     "text": [
      "Sum: 13\n"
     ]
    }
   ],
   "source": [
    "add_numbers(4)"
   ]
  },
  {
   "cell_type": "code",
   "execution_count": 20,
   "id": "307075cb",
   "metadata": {},
   "outputs": [
    {
     "name": "stdout",
     "output_type": "stream",
     "text": [
      "Sum: 9\n"
     ]
    }
   ],
   "source": [
    "add_numbers(b=4)"
   ]
  },
  {
   "cell_type": "code",
   "execution_count": 21,
   "id": "ab76cd59",
   "metadata": {},
   "outputs": [
    {
     "name": "stdout",
     "output_type": "stream",
     "text": [
      "Sum: 11\n"
     ]
    }
   ],
   "source": [
    "add_numbers(a=2)"
   ]
  },
  {
   "cell_type": "code",
   "execution_count": 22,
   "id": "d8d7ba0c",
   "metadata": {},
   "outputs": [
    {
     "name": "stdout",
     "output_type": "stream",
     "text": [
      "Sum: 14\n"
     ]
    }
   ],
   "source": [
    "add_numbers()"
   ]
  },
  {
   "cell_type": "code",
   "execution_count": 23,
   "id": "7488efd8",
   "metadata": {},
   "outputs": [],
   "source": [
    "# Calculating Present Value \n",
    "\n",
    "import numpy as np \n",
    "import pandas as pd \n"
   ]
  },
  {
   "cell_type": "code",
   "execution_count": 24,
   "id": "4bb5d159",
   "metadata": {},
   "outputs": [],
   "source": [
    "#Creating Function to Find PV\n",
    "\n",
    "def calculate_pv(fv, interest_rate,time):\n",
    "    pv = fv/(1 + interest_rate) **time\n",
    "    return pv"
   ]
  },
  {
   "cell_type": "code",
   "execution_count": 25,
   "id": "5adb31e7",
   "metadata": {},
   "outputs": [],
   "source": [
    "#Inserting Values /Given Information\n",
    "fv = 1000\n",
    "interest_rate = 0.06\n",
    "time = 3"
   ]
  },
  {
   "cell_type": "code",
   "execution_count": 26,
   "id": "555d31c9",
   "metadata": {},
   "outputs": [
    {
     "name": "stdout",
     "output_type": "stream",
     "text": [
      "Present Value: 839.6192830323018\n"
     ]
    }
   ],
   "source": [
    "#Calling the function to find PV\n",
    "present_value = calculate_pv(fv, interest_rate, time)\n",
    "print(\"Present Value:\", present_value)"
   ]
  },
  {
   "cell_type": "code",
   "execution_count": 27,
   "id": "72d20b19",
   "metadata": {},
   "outputs": [],
   "source": [
    "# Calculating Future Value \n",
    "\n",
    "import numpy as np\n",
    "import pandas as pd"
   ]
  },
  {
   "cell_type": "code",
   "execution_count": 28,
   "id": "8d3b0bab",
   "metadata": {},
   "outputs": [],
   "source": [
    "#Creating function to find FV\n",
    "def future_value(pv,interest_rate,time):\n",
    "    fv = pv * (1+ interest_rate)** time\n",
    "    return fv"
   ]
  },
  {
   "cell_type": "code",
   "execution_count": 29,
   "id": "70e41f62",
   "metadata": {},
   "outputs": [],
   "source": [
    "#Given Information \n",
    "pv = 1000\n",
    "interest_rate = 0.06\n",
    "time =3 "
   ]
  },
  {
   "cell_type": "code",
   "execution_count": 30,
   "id": "b82e7391",
   "metadata": {},
   "outputs": [
    {
     "name": "stdout",
     "output_type": "stream",
     "text": [
      "Future Value: 1191.016\n"
     ]
    }
   ],
   "source": [
    "fv = future_value(pv,interest_rate,time)\n",
    "print(\"Future Value:\", fv)"
   ]
  },
  {
   "cell_type": "code",
   "execution_count": 32,
   "id": "273d6909",
   "metadata": {},
   "outputs": [],
   "source": [
    "#Calculating time/period\n",
    "\n",
    "import numpy as np\n",
    "import pandas as pd "
   ]
  },
  {
   "cell_type": "code",
   "execution_count": 33,
   "id": "4a4ee05b",
   "metadata": {},
   "outputs": [],
   "source": [
    "#Creating function to find time \n",
    "\n",
    "def time(pv,fv, interest_rate):\n",
    "    time = np.log(fv/pv) / np.log(1+interest_rate)\n",
    "    return time "
   ]
  },
  {
   "cell_type": "code",
   "execution_count": 34,
   "id": "3e183b2b",
   "metadata": {},
   "outputs": [],
   "source": [
    "#Given information \n",
    "pv = 1000\n",
    "fv = 1500\n",
    "interest_rate = 0.05"
   ]
  },
  {
   "cell_type": "code",
   "execution_count": 35,
   "id": "34df4072",
   "metadata": {},
   "outputs": [
    {
     "name": "stdout",
     "output_type": "stream",
     "text": [
      "Time(in years): 8.310386222520561\n"
     ]
    }
   ],
   "source": [
    "period = time(pv,fv, interest_rate)\n",
    "print(\"Time(in years):\", period)"
   ]
  },
  {
   "cell_type": "code",
   "execution_count": 36,
   "id": "3c632b59",
   "metadata": {},
   "outputs": [],
   "source": [
    "#Creating function to find interest \n",
    "\n",
    "import numpy as np\n",
    "import pandas as pd"
   ]
  },
  {
   "cell_type": "code",
   "execution_count": 40,
   "id": "625e7ee2",
   "metadata": {},
   "outputs": [],
   "source": [
    "#Creating function to fnd interest rate \n",
    "\n",
    "def calculate_interest_rate(pv,fv,time):\n",
    "    interest_rate = (fv/pv)** (1/time) - 1\n",
    "    return interest_rate"
   ]
  },
  {
   "cell_type": "code",
   "execution_count": 41,
   "id": "60657c78",
   "metadata": {},
   "outputs": [],
   "source": [
    "#Given information\n",
    "\n",
    "pv = 1000\n",
    "fv = 1500\n",
    "time = 3"
   ]
  },
  {
   "cell_type": "code",
   "execution_count": 44,
   "id": "066b0db4",
   "metadata": {},
   "outputs": [
    {
     "name": "stdout",
     "output_type": "stream",
     "text": [
      "Interest Rate: 0.14471424255333187\n"
     ]
    }
   ],
   "source": [
    "interest_rate = calculate_interest_rate(pv,fv,time)\n",
    "print(\"Interest Rate:\", interest_rate)"
   ]
  },
  {
   "cell_type": "code",
   "execution_count": 43,
   "id": "4e741360",
   "metadata": {},
   "outputs": [
    {
     "name": "stdout",
     "output_type": "stream",
     "text": [
      "Interest Rate: 0.14471424255333187\n"
     ]
    }
   ],
   "source": [
    "# Function to calculate the interest rate\n",
    "def calculate_interest_rate(pv, fv, time):\n",
    "    interest_rate = ((fv / pv) ** (1 / time)) - 1\n",
    "    return interest_rate\n",
    "\n",
    "# Example usage\n",
    "present_value = 1000  # Present value\n",
    "future_value = 1500  # Future value\n",
    "time = 3  # Time in years\n",
    "\n",
    "interest_rate = calculate_interest_rate(present_value, future_value, time)\n",
    "print(\"Interest Rate:\", interest_rate)"
   ]
  },
  {
   "cell_type": "code",
   "execution_count": null,
   "id": "3accab0b",
   "metadata": {},
   "outputs": [],
   "source": []
  }
 ],
 "metadata": {
  "kernelspec": {
   "display_name": "Python 3 (ipykernel)",
   "language": "python",
   "name": "python3"
  },
  "language_info": {
   "codemirror_mode": {
    "name": "ipython",
    "version": 3
   },
   "file_extension": ".py",
   "mimetype": "text/x-python",
   "name": "python",
   "nbconvert_exporter": "python",
   "pygments_lexer": "ipython3",
   "version": "3.9.13"
  }
 },
 "nbformat": 4,
 "nbformat_minor": 5
}
