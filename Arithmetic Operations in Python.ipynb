{
 "cells": [
  {
   "cell_type": "markdown",
   "id": "dc0eb93c",
   "metadata": {},
   "source": [
    "# Arithmetic Operations in Python"
   ]
  },
  {
   "cell_type": "code",
   "execution_count": 1,
   "id": "8eff7b7a",
   "metadata": {},
   "outputs": [
    {
     "data": {
      "text/plain": [
       "5"
      ]
     },
     "execution_count": 1,
     "metadata": {},
     "output_type": "execute_result"
    }
   ],
   "source": [
    "#Addition\n",
    "2 + 3"
   ]
  },
  {
   "cell_type": "code",
   "execution_count": 23,
   "id": "1f77379d",
   "metadata": {},
   "outputs": [
    {
     "data": {
      "text/plain": [
       "5"
      ]
     },
     "execution_count": 23,
     "metadata": {},
     "output_type": "execute_result"
    }
   ],
   "source": [
    "#Addition Using Variable \n",
    "X = 2 \n",
    "Y = 3 \n",
    "X + Y "
   ]
  },
  {
   "cell_type": "code",
   "execution_count": 2,
   "id": "1f9c5205",
   "metadata": {},
   "outputs": [
    {
     "data": {
      "text/plain": [
       "800"
      ]
     },
     "execution_count": 2,
     "metadata": {},
     "output_type": "execute_result"
    }
   ],
   "source": [
    "120 + 680"
   ]
  },
  {
   "cell_type": "code",
   "execution_count": 24,
   "id": "753165bf",
   "metadata": {},
   "outputs": [
    {
     "data": {
      "text/plain": [
       "800"
      ]
     },
     "execution_count": 24,
     "metadata": {},
     "output_type": "execute_result"
    }
   ],
   "source": [
    "X = 120 \n",
    "Y = 680\n",
    "X + Y "
   ]
  },
  {
   "cell_type": "code",
   "execution_count": 3,
   "id": "f57a3f67",
   "metadata": {},
   "outputs": [
    {
     "data": {
      "text/plain": [
       "93000"
      ]
     },
     "execution_count": 3,
     "metadata": {},
     "output_type": "execute_result"
    }
   ],
   "source": [
    "15000 + 78000"
   ]
  },
  {
   "cell_type": "code",
   "execution_count": 25,
   "id": "4f349e44",
   "metadata": {},
   "outputs": [
    {
     "data": {
      "text/plain": [
       "93000"
      ]
     },
     "execution_count": 25,
     "metadata": {},
     "output_type": "execute_result"
    }
   ],
   "source": [
    "X = 15000\n",
    "Y = 78000\n",
    "X + Y "
   ]
  },
  {
   "cell_type": "code",
   "execution_count": 4,
   "id": "49f4dc2f",
   "metadata": {},
   "outputs": [
    {
     "data": {
      "text/plain": [
       "80"
      ]
     },
     "execution_count": 4,
     "metadata": {},
     "output_type": "execute_result"
    }
   ],
   "source": [
    "#Substraction \n",
    "100 - 20 "
   ]
  },
  {
   "cell_type": "code",
   "execution_count": 26,
   "id": "37f42def",
   "metadata": {},
   "outputs": [
    {
     "data": {
      "text/plain": [
       "80"
      ]
     },
     "execution_count": 26,
     "metadata": {},
     "output_type": "execute_result"
    }
   ],
   "source": [
    "A = 100 \n",
    "B = 20 \n",
    "A - B"
   ]
  },
  {
   "cell_type": "code",
   "execution_count": 5,
   "id": "f1b0db97",
   "metadata": {},
   "outputs": [
    {
     "data": {
      "text/plain": [
       "1620"
      ]
     },
     "execution_count": 5,
     "metadata": {},
     "output_type": "execute_result"
    }
   ],
   "source": [
    "1800 - 180 "
   ]
  },
  {
   "cell_type": "code",
   "execution_count": 27,
   "id": "280f7fae",
   "metadata": {},
   "outputs": [
    {
     "data": {
      "text/plain": [
       "1620"
      ]
     },
     "execution_count": 27,
     "metadata": {},
     "output_type": "execute_result"
    }
   ],
   "source": [
    "A = 1800\n",
    "B = 180\n",
    "A - B"
   ]
  },
  {
   "cell_type": "code",
   "execution_count": 6,
   "id": "7cfc1328",
   "metadata": {},
   "outputs": [
    {
     "data": {
      "text/plain": [
       "130000"
      ]
     },
     "execution_count": 6,
     "metadata": {},
     "output_type": "execute_result"
    }
   ],
   "source": [
    "150000 - 20000"
   ]
  },
  {
   "cell_type": "code",
   "execution_count": 28,
   "id": "7f2887f5",
   "metadata": {},
   "outputs": [
    {
     "data": {
      "text/plain": [
       "130000"
      ]
     },
     "execution_count": 28,
     "metadata": {},
     "output_type": "execute_result"
    }
   ],
   "source": [
    "A = 150000\n",
    "B = 20000\n",
    "A - B "
   ]
  },
  {
   "cell_type": "code",
   "execution_count": 7,
   "id": "c51fd2d2",
   "metadata": {},
   "outputs": [
    {
     "data": {
      "text/plain": [
       "12"
      ]
     },
     "execution_count": 7,
     "metadata": {},
     "output_type": "execute_result"
    }
   ],
   "source": [
    "#Multiplication\n",
    "6 * 2"
   ]
  },
  {
   "cell_type": "code",
   "execution_count": 29,
   "id": "5828403d",
   "metadata": {},
   "outputs": [
    {
     "data": {
      "text/plain": [
       "12"
      ]
     },
     "execution_count": 29,
     "metadata": {},
     "output_type": "execute_result"
    }
   ],
   "source": [
    "C = 6 \n",
    "D = 2 \n",
    "C * D "
   ]
  },
  {
   "cell_type": "code",
   "execution_count": 8,
   "id": "c6a6ddd8",
   "metadata": {},
   "outputs": [
    {
     "data": {
      "text/plain": [
       "120"
      ]
     },
     "execution_count": 8,
     "metadata": {},
     "output_type": "execute_result"
    }
   ],
   "source": [
    "12 * 10"
   ]
  },
  {
   "cell_type": "code",
   "execution_count": 30,
   "id": "926aa169",
   "metadata": {},
   "outputs": [
    {
     "data": {
      "text/plain": [
       "120"
      ]
     },
     "execution_count": 30,
     "metadata": {},
     "output_type": "execute_result"
    }
   ],
   "source": [
    "C = 12 \n",
    "D = 10 \n",
    "C * D "
   ]
  },
  {
   "cell_type": "code",
   "execution_count": 9,
   "id": "f1a63eb4",
   "metadata": {},
   "outputs": [
    {
     "data": {
      "text/plain": [
       "10080"
      ]
     },
     "execution_count": 9,
     "metadata": {},
     "output_type": "execute_result"
    }
   ],
   "source": [
    "180 * 56"
   ]
  },
  {
   "cell_type": "code",
   "execution_count": 31,
   "id": "143599ca",
   "metadata": {},
   "outputs": [
    {
     "data": {
      "text/plain": [
       "10080"
      ]
     },
     "execution_count": 31,
     "metadata": {},
     "output_type": "execute_result"
    }
   ],
   "source": [
    "C = 180 \n",
    "D = 56\n",
    "C * D "
   ]
  },
  {
   "cell_type": "code",
   "execution_count": 10,
   "id": "074065b3",
   "metadata": {},
   "outputs": [
    {
     "data": {
      "text/plain": [
       "10.0"
      ]
     },
     "execution_count": 10,
     "metadata": {},
     "output_type": "execute_result"
    }
   ],
   "source": [
    "#Division \n",
    "70/7"
   ]
  },
  {
   "cell_type": "code",
   "execution_count": 32,
   "id": "078e56f5",
   "metadata": {},
   "outputs": [
    {
     "data": {
      "text/plain": [
       "10.0"
      ]
     },
     "execution_count": 32,
     "metadata": {},
     "output_type": "execute_result"
    }
   ],
   "source": [
    "E =70 \n",
    "F = 7\n",
    "E/F"
   ]
  },
  {
   "cell_type": "code",
   "execution_count": 11,
   "id": "86144616",
   "metadata": {},
   "outputs": [
    {
     "data": {
      "text/plain": [
       "8.88888888888889"
      ]
     },
     "execution_count": 11,
     "metadata": {},
     "output_type": "execute_result"
    }
   ],
   "source": [
    "80/9"
   ]
  },
  {
   "cell_type": "code",
   "execution_count": 33,
   "id": "08dba30d",
   "metadata": {},
   "outputs": [
    {
     "data": {
      "text/plain": [
       "8.88888888888889"
      ]
     },
     "execution_count": 33,
     "metadata": {},
     "output_type": "execute_result"
    }
   ],
   "source": [
    "E = 80\n",
    "F =9\n",
    "E/F"
   ]
  },
  {
   "cell_type": "code",
   "execution_count": 12,
   "id": "38e1fb1b",
   "metadata": {},
   "outputs": [
    {
     "data": {
      "text/plain": [
       "75.0"
      ]
     },
     "execution_count": 12,
     "metadata": {},
     "output_type": "execute_result"
    }
   ],
   "source": [
    "900/12"
   ]
  },
  {
   "cell_type": "code",
   "execution_count": 34,
   "id": "fd16e37d",
   "metadata": {},
   "outputs": [
    {
     "data": {
      "text/plain": [
       "75.0"
      ]
     },
     "execution_count": 34,
     "metadata": {},
     "output_type": "execute_result"
    }
   ],
   "source": [
    "First_Number =900\n",
    "Second_Number = 12\n",
    "First_Number/Second_Number"
   ]
  },
  {
   "cell_type": "code",
   "execution_count": 13,
   "id": "63705646",
   "metadata": {},
   "outputs": [
    {
     "data": {
      "text/plain": [
       "45.0"
      ]
     },
     "execution_count": 13,
     "metadata": {},
     "output_type": "execute_result"
    }
   ],
   "source": [
    "900/20"
   ]
  },
  {
   "cell_type": "code",
   "execution_count": 35,
   "id": "8867a146",
   "metadata": {},
   "outputs": [
    {
     "data": {
      "text/plain": [
       "45.0"
      ]
     },
     "execution_count": 35,
     "metadata": {},
     "output_type": "execute_result"
    }
   ],
   "source": [
    "E = 900\n",
    "F = 20 \n",
    "E/F"
   ]
  },
  {
   "cell_type": "code",
   "execution_count": 14,
   "id": "30a4145d",
   "metadata": {},
   "outputs": [
    {
     "data": {
      "text/plain": [
       "15.0"
      ]
     },
     "execution_count": 14,
     "metadata": {},
     "output_type": "execute_result"
    }
   ],
   "source": [
    "900/60"
   ]
  },
  {
   "cell_type": "code",
   "execution_count": 15,
   "id": "fda04719",
   "metadata": {},
   "outputs": [
    {
     "data": {
      "text/plain": [
       "12.705882352941176"
      ]
     },
     "execution_count": 15,
     "metadata": {},
     "output_type": "execute_result"
    }
   ],
   "source": [
    "1080/85"
   ]
  },
  {
   "cell_type": "code",
   "execution_count": 36,
   "id": "551a4587",
   "metadata": {},
   "outputs": [
    {
     "data": {
      "text/plain": [
       "12.705882352941176"
      ]
     },
     "execution_count": 36,
     "metadata": {},
     "output_type": "execute_result"
    }
   ],
   "source": [
    "E = 1080\n",
    "F =85\n",
    "E/F"
   ]
  },
  {
   "cell_type": "code",
   "execution_count": 16,
   "id": "cc3a5367",
   "metadata": {},
   "outputs": [
    {
     "data": {
      "text/plain": [
       "10"
      ]
     },
     "execution_count": 16,
     "metadata": {},
     "output_type": "execute_result"
    }
   ],
   "source": [
    "70//7"
   ]
  },
  {
   "cell_type": "code",
   "execution_count": 37,
   "id": "32217f1f",
   "metadata": {},
   "outputs": [
    {
     "data": {
      "text/plain": [
       "10"
      ]
     },
     "execution_count": 37,
     "metadata": {},
     "output_type": "execute_result"
    }
   ],
   "source": [
    "Y =70\n",
    "Z = 7\n",
    "Y//Z "
   ]
  },
  {
   "cell_type": "code",
   "execution_count": 17,
   "id": "153866a6",
   "metadata": {},
   "outputs": [
    {
     "data": {
      "text/plain": [
       "8"
      ]
     },
     "execution_count": 17,
     "metadata": {},
     "output_type": "execute_result"
    }
   ],
   "source": [
    "80//9"
   ]
  },
  {
   "cell_type": "code",
   "execution_count": 18,
   "id": "0169617d",
   "metadata": {},
   "outputs": [
    {
     "data": {
      "text/plain": [
       "12"
      ]
     },
     "execution_count": 18,
     "metadata": {},
     "output_type": "execute_result"
    }
   ],
   "source": [
    "1080//85"
   ]
  },
  {
   "cell_type": "code",
   "execution_count": 19,
   "id": "e6f58d7e",
   "metadata": {},
   "outputs": [
    {
     "data": {
      "text/plain": [
       "0.3333333333333333"
      ]
     },
     "execution_count": 19,
     "metadata": {},
     "output_type": "execute_result"
    }
   ],
   "source": [
    "#Remainder \n",
    "1/3"
   ]
  },
  {
   "cell_type": "code",
   "execution_count": 20,
   "id": "58110a79",
   "metadata": {},
   "outputs": [
    {
     "data": {
      "text/plain": [
       "0"
      ]
     },
     "execution_count": 20,
     "metadata": {},
     "output_type": "execute_result"
    }
   ],
   "source": [
    "1//3"
   ]
  },
  {
   "cell_type": "code",
   "execution_count": 21,
   "id": "95a235c8",
   "metadata": {},
   "outputs": [
    {
     "data": {
      "text/plain": [
       "1"
      ]
     },
     "execution_count": 21,
     "metadata": {},
     "output_type": "execute_result"
    }
   ],
   "source": [
    "1 % 3"
   ]
  },
  {
   "cell_type": "code",
   "execution_count": 38,
   "id": "1ee783de",
   "metadata": {},
   "outputs": [
    {
     "data": {
      "text/plain": [
       "1"
      ]
     },
     "execution_count": 38,
     "metadata": {},
     "output_type": "execute_result"
    }
   ],
   "source": [
    "U = 1\n",
    "V = 3\n",
    "U % V"
   ]
  },
  {
   "cell_type": "code",
   "execution_count": 22,
   "id": "48eecef3",
   "metadata": {},
   "outputs": [
    {
     "data": {
      "text/plain": [
       "60"
      ]
     },
     "execution_count": 22,
     "metadata": {},
     "output_type": "execute_result"
    }
   ],
   "source": [
    "1080 % 85"
   ]
  },
  {
   "cell_type": "code",
   "execution_count": null,
   "id": "c9f642c1",
   "metadata": {},
   "outputs": [],
   "source": []
  }
 ],
 "metadata": {
  "kernelspec": {
   "display_name": "Python 3 (ipykernel)",
   "language": "python",
   "name": "python3"
  },
  "language_info": {
   "codemirror_mode": {
    "name": "ipython",
    "version": 3
   },
   "file_extension": ".py",
   "mimetype": "text/x-python",
   "name": "python",
   "nbconvert_exporter": "python",
   "pygments_lexer": "ipython3",
   "version": "3.9.13"
  }
 },
 "nbformat": 4,
 "nbformat_minor": 5
}
