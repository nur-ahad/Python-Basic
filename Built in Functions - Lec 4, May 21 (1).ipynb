{
 "cells": [
  {
   "cell_type": "code",
   "execution_count": 1,
   "id": "6071c4d4",
   "metadata": {},
   "outputs": [
    {
     "data": {
      "text/plain": [
       "4"
      ]
     },
     "execution_count": 1,
     "metadata": {},
     "output_type": "execute_result"
    }
   ],
   "source": [
    "#Abs function\n",
    "\n",
    "abs(-4)"
   ]
  },
  {
   "cell_type": "code",
   "execution_count": 2,
   "id": "f6bb2424",
   "metadata": {},
   "outputs": [
    {
     "data": {
      "text/plain": [
       "2"
      ]
     },
     "execution_count": 2,
     "metadata": {},
     "output_type": "execute_result"
    }
   ],
   "source": [
    "abs(3-5)"
   ]
  },
  {
   "cell_type": "code",
   "execution_count": 3,
   "id": "531a9d76",
   "metadata": {},
   "outputs": [
    {
     "data": {
      "text/plain": [
       "67"
      ]
     },
     "execution_count": 3,
     "metadata": {},
     "output_type": "execute_result"
    }
   ],
   "source": [
    "abs(-67)"
   ]
  },
  {
   "cell_type": "code",
   "execution_count": 5,
   "id": "74723a2a",
   "metadata": {},
   "outputs": [
    {
     "name": "stdout",
     "output_type": "stream",
     "text": [
      "False\n"
     ]
    }
   ],
   "source": [
    "# all function \n",
    "\n",
    "tuple = (0,True,False)\n",
    "x = all(tuple)\n",
    "print(x)"
   ]
  },
  {
   "cell_type": "code",
   "execution_count": 6,
   "id": "38f8cf3f",
   "metadata": {},
   "outputs": [
    {
     "name": "stdout",
     "output_type": "stream",
     "text": [
      "False\n"
     ]
    }
   ],
   "source": [
    "tuple =(1, True, False)\n",
    "x = all(tuple)\n",
    "print(x)"
   ]
  },
  {
   "cell_type": "code",
   "execution_count": 7,
   "id": "c77165c9",
   "metadata": {},
   "outputs": [
    {
     "name": "stdout",
     "output_type": "stream",
     "text": [
      "0b101\n"
     ]
    }
   ],
   "source": [
    "# bin function \n",
    "\n",
    "a = 5 \n",
    "print(bin(a))"
   ]
  },
  {
   "cell_type": "code",
   "execution_count": 8,
   "id": "207abd5e",
   "metadata": {},
   "outputs": [
    {
     "name": "stdout",
     "output_type": "stream",
     "text": [
      "0b1010011\n"
     ]
    }
   ],
   "source": [
    "b = 83\n",
    "print(bin(b))"
   ]
  },
  {
   "cell_type": "code",
   "execution_count": 9,
   "id": "d5c8f047",
   "metadata": {},
   "outputs": [
    {
     "name": "stdout",
     "output_type": "stream",
     "text": [
      "5.0\n"
     ]
    }
   ],
   "source": [
    "# float function \n",
    "\n",
    "x = float(5)\n",
    "print(x)\n"
   ]
  },
  {
   "cell_type": "code",
   "execution_count": 10,
   "id": "970dced6",
   "metadata": {},
   "outputs": [
    {
     "name": "stdout",
     "output_type": "stream",
     "text": [
      "10\n"
     ]
    }
   ],
   "source": [
    "# int function \n",
    "\n",
    "y = 10.5\n",
    "y = int(10.5)\n",
    "print(y)"
   ]
  },
  {
   "cell_type": "code",
   "execution_count": 11,
   "id": "733da7b8",
   "metadata": {},
   "outputs": [
    {
     "data": {
      "text/plain": [
       "0.4444444444444444"
      ]
     },
     "execution_count": 11,
     "metadata": {},
     "output_type": "execute_result"
    }
   ],
   "source": [
    "# round function \n",
    "\n",
    "4/9 "
   ]
  },
  {
   "cell_type": "code",
   "execution_count": 12,
   "id": "4206a8ea",
   "metadata": {},
   "outputs": [],
   "source": [
    "x = 0.4444444444444444"
   ]
  },
  {
   "cell_type": "code",
   "execution_count": 13,
   "id": "1d8c64ec",
   "metadata": {},
   "outputs": [
    {
     "name": "stdout",
     "output_type": "stream",
     "text": [
      "0.44\n"
     ]
    }
   ],
   "source": [
    "x = round(0.4444444444444444, 2)\n",
    "print(x)"
   ]
  },
  {
   "cell_type": "code",
   "execution_count": 14,
   "id": "d1aa2a75",
   "metadata": {},
   "outputs": [
    {
     "name": "stdout",
     "output_type": "stream",
     "text": [
      "0.444\n"
     ]
    }
   ],
   "source": [
    "x = round(0.4444444444444444, 3)\n",
    "print(x)"
   ]
  },
  {
   "cell_type": "code",
   "execution_count": 15,
   "id": "2879a396",
   "metadata": {},
   "outputs": [
    {
     "name": "stdout",
     "output_type": "stream",
     "text": [
      "0.4444\n"
     ]
    }
   ],
   "source": [
    "x = round(0.4444444444444444, 4)\n",
    "print(x)"
   ]
  },
  {
   "cell_type": "code",
   "execution_count": 16,
   "id": "f8c0046b",
   "metadata": {},
   "outputs": [
    {
     "name": "stdout",
     "output_type": "stream",
     "text": [
      "0.44444\n"
     ]
    }
   ],
   "source": [
    "x = round(0.4444444444444444, 5)\n",
    "print(x)"
   ]
  },
  {
   "cell_type": "code",
   "execution_count": 17,
   "id": "24e074ed",
   "metadata": {},
   "outputs": [
    {
     "name": "stdout",
     "output_type": "stream",
     "text": [
      "0.3010299956639812\n"
     ]
    }
   ],
   "source": [
    "# log function \n",
    "\n",
    "import math \n",
    "\n",
    "x = math.log10(2)\n",
    "print(x)"
   ]
  },
  {
   "cell_type": "code",
   "execution_count": 19,
   "id": "7ef88057",
   "metadata": {},
   "outputs": [
    {
     "name": "stdout",
     "output_type": "stream",
     "text": [
      "0.3\n"
     ]
    }
   ],
   "source": [
    "x = round(0.3010299956639812, 2)\n",
    "print(x)"
   ]
  },
  {
   "cell_type": "code",
   "execution_count": 21,
   "id": "1c7d2709",
   "metadata": {},
   "outputs": [
    {
     "name": "stdout",
     "output_type": "stream",
     "text": [
      "0.6989700043360189\n"
     ]
    }
   ],
   "source": [
    "import math \n",
    "x = math.log10(5)\n",
    "print(x)"
   ]
  },
  {
   "cell_type": "code",
   "execution_count": 22,
   "id": "c68782e6",
   "metadata": {},
   "outputs": [
    {
     "name": "stdout",
     "output_type": "stream",
     "text": [
      "0.699\n"
     ]
    }
   ],
   "source": [
    "x = round(0.6989700043360189, 4)\n",
    "print(x)"
   ]
  },
  {
   "cell_type": "code",
   "execution_count": 23,
   "id": "2ea2e283",
   "metadata": {},
   "outputs": [
    {
     "name": "stdout",
     "output_type": "stream",
     "text": [
      "0.69897\n"
     ]
    }
   ],
   "source": [
    "x = round(0.6989700043360189, 5)\n",
    "print(x)"
   ]
  },
  {
   "cell_type": "code",
   "execution_count": 24,
   "id": "3ca71850",
   "metadata": {},
   "outputs": [
    {
     "name": "stdout",
     "output_type": "stream",
     "text": [
      "0.699\n"
     ]
    }
   ],
   "source": [
    "x = round(0.6989700043360189, 3)\n",
    "print(x)"
   ]
  },
  {
   "cell_type": "code",
   "execution_count": 25,
   "id": "2ff5571a",
   "metadata": {},
   "outputs": [
    {
     "name": "stdout",
     "output_type": "stream",
     "text": [
      "0.7\n"
     ]
    }
   ],
   "source": [
    "x = round(0.6989700043360189, 2)\n",
    "print(x)"
   ]
  },
  {
   "cell_type": "code",
   "execution_count": 26,
   "id": "00097f9f",
   "metadata": {},
   "outputs": [
    {
     "name": "stdout",
     "output_type": "stream",
     "text": [
      "10\n"
     ]
    }
   ],
   "source": [
    "# min function \n",
    "\n",
    "smallest_number = min(20,10)\n",
    "print(smallest_number)"
   ]
  },
  {
   "cell_type": "code",
   "execution_count": 27,
   "id": "ec370afe",
   "metadata": {},
   "outputs": [
    {
     "name": "stdout",
     "output_type": "stream",
     "text": [
      "10\n"
     ]
    }
   ],
   "source": [
    "smallest_number = min(50,40,30, 20,10)\n",
    "print(smallest_number)"
   ]
  },
  {
   "cell_type": "code",
   "execution_count": 28,
   "id": "9737076b",
   "metadata": {},
   "outputs": [
    {
     "name": "stdout",
     "output_type": "stream",
     "text": [
      "5\n"
     ]
    }
   ],
   "source": [
    "smallest_rate = min(5, 6, 9, 12, 18, 20)\n",
    "print(smallest_rate)"
   ]
  },
  {
   "cell_type": "code",
   "execution_count": 29,
   "id": "44f1d938",
   "metadata": {},
   "outputs": [
    {
     "name": "stdout",
     "output_type": "stream",
     "text": [
      "[120, 140, 160, 80, 60, 40]\n"
     ]
    }
   ],
   "source": [
    "# max fundction \n",
    "\n",
    "num_list =[120, 140, 160, 80, 60, 40]\n",
    "largest_num = max(num_list)\n",
    "print(num_list)"
   ]
  },
  {
   "cell_type": "code",
   "execution_count": 30,
   "id": "9422a210",
   "metadata": {},
   "outputs": [
    {
     "name": "stdout",
     "output_type": "stream",
     "text": [
      "160\n"
     ]
    }
   ],
   "source": [
    "print(largest_num)"
   ]
  },
  {
   "cell_type": "code",
   "execution_count": 31,
   "id": "06c7cb56",
   "metadata": {},
   "outputs": [
    {
     "name": "stdout",
     "output_type": "stream",
     "text": [
      "9.273618495495704\n"
     ]
    }
   ],
   "source": [
    "# sqrt function \n",
    "\n",
    "import math \n",
    "x = math.sqrt(86)\n",
    "print(x)"
   ]
  },
  {
   "cell_type": "code",
   "execution_count": 32,
   "id": "09d706b6",
   "metadata": {},
   "outputs": [
    {
     "name": "stdout",
     "output_type": "stream",
     "text": [
      "6.0\n"
     ]
    }
   ],
   "source": [
    "x = math.sqrt(36)\n",
    "print(x)"
   ]
  },
  {
   "cell_type": "code",
   "execution_count": 35,
   "id": "baaf194a",
   "metadata": {},
   "outputs": [],
   "source": [
    "# PV of Ordinary Annuity \n",
    "\n",
    "def pv_orindary_annuity (cash_flow, interest_rate, periods):\n",
    "    discount_factor = (1-(1+ interest_rate)** -periods)/interest_rate\n",
    "    present_value = cash_flow * discount_factor\n",
    "    return present_value\n",
    "    "
   ]
  },
  {
   "cell_type": "code",
   "execution_count": 36,
   "id": "5d62e1a4",
   "metadata": {},
   "outputs": [],
   "source": [
    "cash_flow= 1000\n",
    "interest_rate = 0.05\n",
    "period = 5"
   ]
  },
  {
   "cell_type": "code",
   "execution_count": 40,
   "id": "dc78f1d0",
   "metadata": {},
   "outputs": [
    {
     "ename": "NameError",
     "evalue": "name 'pv_ordinary_annuity' is not defined",
     "output_type": "error",
     "traceback": [
      "\u001b[1;31m---------------------------------------------------------------------------\u001b[0m",
      "\u001b[1;31mNameError\u001b[0m                                 Traceback (most recent call last)",
      "\u001b[1;32m~\\AppData\\Local\\Temp\\ipykernel_9508\\3752828829.py\u001b[0m in \u001b[0;36m<module>\u001b[1;34m\u001b[0m\n\u001b[1;32m----> 1\u001b[1;33m \u001b[0mprint\u001b[0m\u001b[1;33m(\u001b[0m\u001b[0mpv_ordinary_annuity\u001b[0m\u001b[1;33m)\u001b[0m\u001b[1;33m\u001b[0m\u001b[1;33m\u001b[0m\u001b[0m\n\u001b[0m",
      "\u001b[1;31mNameError\u001b[0m: name 'pv_ordinary_annuity' is not defined"
     ]
    }
   ],
   "source": [
    "print(pv_ordinary_annuity)"
   ]
  },
  {
   "cell_type": "code",
   "execution_count": 41,
   "id": "774d6797",
   "metadata": {},
   "outputs": [],
   "source": [
    "def present_value_ordinary_annuity(cash_flow, interest_rate,periods):\n",
    "    present_value = cash_flow *((1-(1 + interest_rate)** -periods)/ interest_rate)\n",
    "    return present_value "
   ]
  },
  {
   "cell_type": "code",
   "execution_count": 42,
   "id": "579b9f50",
   "metadata": {},
   "outputs": [
    {
     "name": "stdout",
     "output_type": "stream",
     "text": [
      "4329.476670630823\n"
     ]
    }
   ],
   "source": [
    "cash_flow = 1000\n",
    "interest_rate = 0.05\n",
    "periods = 5\n",
    "\n",
    "pv = present_value_ordinary_annuity(cash_flow, interest_rate,periods)\n",
    "print(pv)"
   ]
  },
  {
   "cell_type": "code",
   "execution_count": 45,
   "id": "1e0576ab",
   "metadata": {},
   "outputs": [
    {
     "name": "stdout",
     "output_type": "stream",
     "text": [
      "4329.4767\n"
     ]
    }
   ],
   "source": [
    "pv_annuity = round(4329.476670630823,4)\n",
    "print(pv_annuity)"
   ]
  },
  {
   "cell_type": "code",
   "execution_count": 47,
   "id": "6e5877cf",
   "metadata": {},
   "outputs": [],
   "source": [
    "# Exp2 \n",
    "\n",
    "def present_value_ordinary_annunity(cash_flow, interest_rate, periods):\n",
    "    present_value = cash_flow *((1-(1 + interest_rate)** -periods)/interest_rate)\n",
    "    return present_value"
   ]
  },
  {
   "cell_type": "code",
   "execution_count": 48,
   "id": "b2231f78",
   "metadata": {},
   "outputs": [],
   "source": [
    "cash_flow = 10000\n",
    "interest_rate = 0.06\n",
    "periods = 10\n",
    "\n",
    "pv = present_value_ordinary_annunity(cash_flow, interest_rate, periods)"
   ]
  },
  {
   "cell_type": "code",
   "execution_count": 49,
   "id": "7654d42f",
   "metadata": {},
   "outputs": [
    {
     "name": "stdout",
     "output_type": "stream",
     "text": [
      "73600.87051414703\n"
     ]
    }
   ],
   "source": [
    "print(pv)"
   ]
  },
  {
   "cell_type": "code",
   "execution_count": 50,
   "id": "72168b82",
   "metadata": {},
   "outputs": [
    {
     "name": "stdout",
     "output_type": "stream",
     "text": [
      "73600.8705\n"
     ]
    }
   ],
   "source": [
    "pv_annunity = round(pv,4)\n",
    "print(pv_annunity)"
   ]
  },
  {
   "cell_type": "code",
   "execution_count": null,
   "id": "62060caa",
   "metadata": {},
   "outputs": [],
   "source": []
  }
 ],
 "metadata": {
  "kernelspec": {
   "display_name": "Python 3 (ipykernel)",
   "language": "python",
   "name": "python3"
  },
  "language_info": {
   "codemirror_mode": {
    "name": "ipython",
    "version": 3
   },
   "file_extension": ".py",
   "mimetype": "text/x-python",
   "name": "python",
   "nbconvert_exporter": "python",
   "pygments_lexer": "ipython3",
   "version": "3.9.13"
  }
 },
 "nbformat": 4,
 "nbformat_minor": 5
}
