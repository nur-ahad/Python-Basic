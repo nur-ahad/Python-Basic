{
 "cells": [
  {
   "cell_type": "code",
   "execution_count": 2,
   "id": "320bb55b",
   "metadata": {},
   "outputs": [
    {
     "data": {
      "text/plain": [
       "15"
      ]
     },
     "execution_count": 2,
     "metadata": {},
     "output_type": "execute_result"
    }
   ],
   "source": [
    "#Addition - Inline Comment\n",
    "a = 10 \n",
    "b = 5 \n",
    "a + b "
   ]
  },
  {
   "cell_type": "code",
   "execution_count": 4,
   "id": "7e981522",
   "metadata": {},
   "outputs": [
    {
     "data": {
      "text/plain": [
       "60"
      ]
     },
     "execution_count": 4,
     "metadata": {},
     "output_type": "execute_result"
    }
   ],
   "source": [
    "#Add a number \n",
    "#Substract a number \n",
    "#Multiply a number \n",
    "X = 50 \n",
    "Y = 10 \n",
    "X + Y "
   ]
  },
  {
   "cell_type": "code",
   "execution_count": 5,
   "id": "3104bbb2",
   "metadata": {},
   "outputs": [
    {
     "data": {
      "text/plain": [
       "'this is it '"
      ]
     },
     "execution_count": 5,
     "metadata": {},
     "output_type": "execute_result"
    }
   ],
   "source": [
    "'''this is it '''"
   ]
  },
  {
   "cell_type": "code",
   "execution_count": 6,
   "id": "39ce7594",
   "metadata": {},
   "outputs": [
    {
     "name": "stdout",
     "output_type": "stream",
     "text": [
      "Hello Shathi\n"
     ]
    }
   ],
   "source": [
    "print (\"Hello Shathi\")"
   ]
  },
  {
   "cell_type": "code",
   "execution_count": 7,
   "id": "8ecb1b99",
   "metadata": {},
   "outputs": [
    {
     "name": "stdout",
     "output_type": "stream",
     "text": [
      "Hello World\n"
     ]
    }
   ],
   "source": [
    "print (\"Hello World\")"
   ]
  },
  {
   "cell_type": "code",
   "execution_count": 8,
   "id": "cb2822d8",
   "metadata": {},
   "outputs": [
    {
     "name": "stdout",
     "output_type": "stream",
     "text": [
      "166\n"
     ]
    }
   ],
   "source": [
    "#Addition Case \n",
    "\n",
    "a = 68 \n",
    "b = 98 \n",
    "print (a+b)"
   ]
  },
  {
   "cell_type": "code",
   "execution_count": 9,
   "id": "77a0fcdb",
   "metadata": {},
   "outputs": [
    {
     "name": "stdout",
     "output_type": "stream",
     "text": [
      "816\n"
     ]
    }
   ],
   "source": [
    "#Substraction \n",
    "\n",
    "a =950 \n",
    "b =134\n",
    "print (a-b)"
   ]
  },
  {
   "cell_type": "code",
   "execution_count": 10,
   "id": "1cb6bf73",
   "metadata": {},
   "outputs": [
    {
     "name": "stdout",
     "output_type": "stream",
     "text": [
      "60300\n"
     ]
    }
   ],
   "source": [
    "X = 900\n",
    "Y =67 \n",
    "print (X*Y)"
   ]
  },
  {
   "cell_type": "code",
   "execution_count": 12,
   "id": "41699e26",
   "metadata": {},
   "outputs": [
    {
     "name": "stdout",
     "output_type": "stream",
     "text": [
      "Enter your name.\n",
      "Saskia\n",
      "Hello,{} Saskia\n"
     ]
    }
   ],
   "source": [
    "print ('Enter your name.')\n",
    "yourName = input()\n",
    "print ('Hello,{}',format(yourName))"
   ]
  },
  {
   "cell_type": "code",
   "execution_count": 13,
   "id": "557e9947",
   "metadata": {},
   "outputs": [
    {
     "name": "stdout",
     "output_type": "stream",
     "text": [
      "Enter your name.\n",
      "Harry\n",
      "Hey Harry\n"
     ]
    }
   ],
   "source": [
    "print ('Enter your name.')\n",
    "yourName = input()\n",
    "print ('Hey',format(yourName))"
   ]
  },
  {
   "cell_type": "code",
   "execution_count": 14,
   "id": "0f26c698",
   "metadata": {},
   "outputs": [
    {
     "name": "stdout",
     "output_type": "stream",
     "text": [
      "Please Enter Your Name:N C Shathi \n",
      "N C Shathi \n"
     ]
    }
   ],
   "source": [
    "name = input('Please Enter Your Name:')\n",
    "print(name)"
   ]
  },
  {
   "cell_type": "code",
   "execution_count": 15,
   "id": "23831845",
   "metadata": {},
   "outputs": [
    {
     "name": "stdout",
     "output_type": "stream",
     "text": [
      "Tell me where do you live:New York\n",
      "New York\n"
     ]
    }
   ],
   "source": [
    "live = input('Tell me where do you live:')\n",
    "print (live)"
   ]
  },
  {
   "cell_type": "code",
   "execution_count": 16,
   "id": "34729282",
   "metadata": {},
   "outputs": [
    {
     "name": "stdout",
     "output_type": "stream",
     "text": [
      "Tell me your cityNew York\n",
      "New York\n"
     ]
    }
   ],
   "source": [
    "live =input('Tell me your city')\n",
    "print(live)"
   ]
  },
  {
   "cell_type": "code",
   "execution_count": 17,
   "id": "a5dcc028",
   "metadata": {},
   "outputs": [
    {
     "name": "stdout",
     "output_type": "stream",
     "text": [
      "What services do you want?Sim Replacement \n",
      "Sim Replacement \n"
     ]
    }
   ],
   "source": [
    "query =input('What services do you want?')\n",
    "print(query)"
   ]
  },
  {
   "cell_type": "code",
   "execution_count": 18,
   "id": "fcf14820",
   "metadata": {},
   "outputs": [
    {
     "name": "stdout",
     "output_type": "stream",
     "text": [
      "What is your problem?Chest Pain\n",
      "Chest Pain\n"
     ]
    }
   ],
   "source": [
    "problem =input('What is your problem?')\n",
    "print(problem)"
   ]
  },
  {
   "cell_type": "code",
   "execution_count": 19,
   "id": "9fbb02fd",
   "metadata": {},
   "outputs": [
    {
     "name": "stdout",
     "output_type": "stream",
     "text": [
      "['Dhaka', 'Chittagong', 'Comilla', 'Noakhali', 'Rajshahi']\n"
     ]
    }
   ],
   "source": [
    "cities =['Dhaka','Chittagong','Comilla','Noakhali','Rajshahi']\n",
    "print (cities)"
   ]
  },
  {
   "cell_type": "code",
   "execution_count": 20,
   "id": "81e407c8",
   "metadata": {},
   "outputs": [
    {
     "name": "stdout",
     "output_type": "stream",
     "text": [
      "['NapaExtra', 'Calcium', 'Vitamin', 'Rabe']\n"
     ]
    }
   ],
   "source": [
    "Medicines =['NapaExtra','Calcium','Vitamin','Rabe']\n",
    "print (Medicines)"
   ]
  },
  {
   "cell_type": "code",
   "execution_count": 21,
   "id": "197b3ee5",
   "metadata": {},
   "outputs": [
    {
     "name": "stdout",
     "output_type": "stream",
     "text": [
      "[1711100, 1711101, 1711102, 1711103, 1711104, 1711105]\n"
     ]
    }
   ],
   "source": [
    "Cell_Numbers=[1711100,1711101,1711102,1711103,1711104,1711105]\n",
    "print(Cell_Numbers)"
   ]
  },
  {
   "cell_type": "code",
   "execution_count": 22,
   "id": "43e506dd",
   "metadata": {},
   "outputs": [
    {
     "name": "stdout",
     "output_type": "stream",
     "text": [
      "[1, 2, 3, 4, 5, 6, 7, 8, 10, 11]\n"
     ]
    }
   ],
   "source": [
    "Numbers =[1,2,3,4,5,6,7,8,10,11]\n",
    "print(Numbers)"
   ]
  },
  {
   "cell_type": "code",
   "execution_count": 23,
   "id": "5e702e33",
   "metadata": {},
   "outputs": [
    {
     "name": "stdout",
     "output_type": "stream",
     "text": [
      "[37.15, 81.05, 56.23, 48.72, 45.11]\n"
     ]
    }
   ],
   "source": [
    "Scores =[37.15,81.05,56.23,48.72,45.11]\n",
    "print (Scores)"
   ]
  },
  {
   "cell_type": "code",
   "execution_count": 24,
   "id": "4ba32081",
   "metadata": {},
   "outputs": [
    {
     "name": "stdout",
     "output_type": "stream",
     "text": [
      "['Microbiology', 2050, 65]\n"
     ]
    }
   ],
   "source": [
    "Score_Card =['Microbiology',2050, 65]\n",
    "print (Score_Card)"
   ]
  },
  {
   "cell_type": "code",
   "execution_count": 25,
   "id": "082063b1",
   "metadata": {},
   "outputs": [
    {
     "name": "stdout",
     "output_type": "stream",
     "text": [
      "['Microbiology', 'Tabassum', 2050, 65]\n"
     ]
    }
   ],
   "source": [
    "Score_Card =['Microbiology','Tabassum',2050, 65]\n",
    "print (Score_Card)"
   ]
  },
  {
   "cell_type": "code",
   "execution_count": 28,
   "id": "9e7efef7",
   "metadata": {},
   "outputs": [],
   "source": [
    "Score_Card =['Microbiology','Tabassum',2050, 65]\n",
    "Score_Card.append('BasicMedicine')"
   ]
  },
  {
   "cell_type": "code",
   "execution_count": 29,
   "id": "2658bad9",
   "metadata": {},
   "outputs": [
    {
     "name": "stdout",
     "output_type": "stream",
     "text": [
      "['Microbiology', 'Tabassum', 2050, 65, 'BasicMedicine']\n"
     ]
    }
   ],
   "source": [
    "print(Score_Card)"
   ]
  },
  {
   "cell_type": "code",
   "execution_count": 32,
   "id": "d6cfd1f9",
   "metadata": {},
   "outputs": [],
   "source": [
    "Score_Card =['Microbiology','Tabassum',2050, 65]\n",
    "Score_Card.append('50')"
   ]
  },
  {
   "cell_type": "code",
   "execution_count": 33,
   "id": "de11627f",
   "metadata": {},
   "outputs": [
    {
     "name": "stdout",
     "output_type": "stream",
     "text": [
      "['Microbiology', 'Tabassum', 2050, 65, '50']\n"
     ]
    }
   ],
   "source": [
    "print(Score_Card)"
   ]
  },
  {
   "cell_type": "code",
   "execution_count": 34,
   "id": "48d4c922",
   "metadata": {},
   "outputs": [
    {
     "name": "stdout",
     "output_type": "stream",
     "text": [
      "['USD', 'CAD', 'JPY', 'RMB']\n"
     ]
    }
   ],
   "source": [
    "Currencies =['USD','CAD','JPY','RMB']\n",
    "print (Currencies)"
   ]
  },
  {
   "cell_type": "code",
   "execution_count": 35,
   "id": "130b2d11",
   "metadata": {},
   "outputs": [],
   "source": [
    "Currencies.append('EURO')"
   ]
  },
  {
   "cell_type": "code",
   "execution_count": 36,
   "id": "626e175f",
   "metadata": {},
   "outputs": [
    {
     "name": "stdout",
     "output_type": "stream",
     "text": [
      "['USD', 'CAD', 'JPY', 'RMB', 'EURO']\n"
     ]
    }
   ],
   "source": [
    "print(Currencies)"
   ]
  },
  {
   "cell_type": "code",
   "execution_count": 37,
   "id": "f4b9e70f",
   "metadata": {},
   "outputs": [],
   "source": [
    "USEU_Currencies = ['USD','CAD','EURO']\n",
    "ASIA_Currencies = ['JPY','RMB','SGD']"
   ]
  },
  {
   "cell_type": "code",
   "execution_count": 38,
   "id": "a35d7afa",
   "metadata": {},
   "outputs": [],
   "source": [
    "USEU_Currencies.append(ASIA_Currencies)"
   ]
  },
  {
   "cell_type": "code",
   "execution_count": 39,
   "id": "5baff590",
   "metadata": {},
   "outputs": [
    {
     "name": "stdout",
     "output_type": "stream",
     "text": [
      "['USD', 'CAD', 'EURO', ['JPY', 'RMB', 'SGD']]\n"
     ]
    }
   ],
   "source": [
    "print (USEU_Currencies)"
   ]
  },
  {
   "cell_type": "code",
   "execution_count": null,
   "id": "a4688d22",
   "metadata": {},
   "outputs": [],
   "source": []
  }
 ],
 "metadata": {
  "kernelspec": {
   "display_name": "Python 3 (ipykernel)",
   "language": "python",
   "name": "python3"
  },
  "language_info": {
   "codemirror_mode": {
    "name": "ipython",
    "version": 3
   },
   "file_extension": ".py",
   "mimetype": "text/x-python",
   "name": "python",
   "nbconvert_exporter": "python",
   "pygments_lexer": "ipython3",
   "version": "3.9.13"
  }
 },
 "nbformat": 4,
 "nbformat_minor": 5
}
