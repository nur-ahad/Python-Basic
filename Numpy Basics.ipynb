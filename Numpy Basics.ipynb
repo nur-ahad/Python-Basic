{
 "cells": [
  {
   "cell_type": "code",
   "execution_count": 1,
   "id": "4551bddc",
   "metadata": {},
   "outputs": [],
   "source": [
    "# Data = systematic record of particular quantity. "
   ]
  },
  {
   "cell_type": "code",
   "execution_count": 2,
   "id": "0c379b5e",
   "metadata": {},
   "outputs": [],
   "source": [
    "# Numpy package \n",
    "# Numpy = Numerical Python\n",
    "# working method = arrays "
   ]
  },
  {
   "cell_type": "code",
   "execution_count": 3,
   "id": "2940dd32",
   "metadata": {},
   "outputs": [],
   "source": [
    "# import \n",
    "# install "
   ]
  },
  {
   "cell_type": "code",
   "execution_count": 4,
   "id": "28ead197",
   "metadata": {},
   "outputs": [],
   "source": [
    "# import = some packages are pre-installed. \n",
    "# install = first install then import "
   ]
  },
  {
   "cell_type": "code",
   "execution_count": 5,
   "id": "70f46f28",
   "metadata": {},
   "outputs": [],
   "source": [
    "import numpy as np"
   ]
  },
  {
   "cell_type": "code",
   "execution_count": 6,
   "id": "63df1dae",
   "metadata": {},
   "outputs": [],
   "source": [
    "#1D Array Using Numpy \n",
    "\n",
    "a = np.array([10,20,30,40,50])"
   ]
  },
  {
   "cell_type": "code",
   "execution_count": 7,
   "id": "139c1b06",
   "metadata": {},
   "outputs": [
    {
     "name": "stdout",
     "output_type": "stream",
     "text": [
      "[10 20 30 40 50]\n"
     ]
    }
   ],
   "source": [
    "print(a)"
   ]
  },
  {
   "cell_type": "code",
   "execution_count": 8,
   "id": "c1a13e28",
   "metadata": {},
   "outputs": [],
   "source": [
    "# 4 different ways/functions to create 1D array in Numpy."
   ]
  },
  {
   "cell_type": "code",
   "execution_count": 9,
   "id": "0530942b",
   "metadata": {},
   "outputs": [
    {
     "name": "stdout",
     "output_type": "stream",
     "text": [
      "[ 2  4  6  8 10]\n"
     ]
    }
   ],
   "source": [
    "# Way 1 - Using Array Function \n",
    "\n",
    "import numpy as np \n",
    "b = np.array([2,4,6,8,10])\n",
    "print(b)"
   ]
  },
  {
   "cell_type": "code",
   "execution_count": 10,
   "id": "c3223a54",
   "metadata": {},
   "outputs": [
    {
     "name": "stdout",
     "output_type": "stream",
     "text": [
      "[ 2.   4.   6.5  8.  10. ]\n"
     ]
    }
   ],
   "source": [
    "\n",
    "import numpy as np \n",
    "c = np.array([2,4,6.50,8,10])\n",
    "print(c)"
   ]
  },
  {
   "cell_type": "code",
   "execution_count": 11,
   "id": "37ee6b8c",
   "metadata": {},
   "outputs": [
    {
     "name": "stdout",
     "output_type": "stream",
     "text": [
      "(array([2. , 2.4, 2.8, 3.2, 3.6, 4. ]), 0.4)\n"
     ]
    }
   ],
   "source": [
    "# Way 2 - linspace Function #(start,stop,N)\n",
    "\n",
    "import numpy as np\n",
    "b =np.linspace(2,4,6,8,10)\n",
    "print(b)"
   ]
  },
  {
   "cell_type": "code",
   "execution_count": 14,
   "id": "9b580566",
   "metadata": {},
   "outputs": [
    {
     "name": "stdout",
     "output_type": "stream",
     "text": [
      "[0 1 2 3 4 5 6 7 8 9]\n"
     ]
    }
   ],
   "source": [
    "# Way 3 - arange Function #(start,stop,stepsize)\n",
    "\n",
    "import numpy as np\n",
    "\n",
    "a = np.arange(10)\n",
    "print(a)"
   ]
  },
  {
   "cell_type": "code",
   "execution_count": 15,
   "id": "3c3f4ee7",
   "metadata": {},
   "outputs": [
    {
     "name": "stdout",
     "output_type": "stream",
     "text": [
      "[5 6 7 8 9]\n"
     ]
    }
   ],
   "source": [
    "import numpy as np\n",
    "\n",
    "a = np.arange(5,10)\n",
    "print(a)"
   ]
  },
  {
   "cell_type": "code",
   "execution_count": 16,
   "id": "ccb6a428",
   "metadata": {},
   "outputs": [
    {
     "name": "stdout",
     "output_type": "stream",
     "text": [
      "[0. 0. 0. 0. 0.]\n"
     ]
    }
   ],
   "source": [
    "# Way 4 - ones() and zeros() function \n",
    "\n",
    "import numpy as np\n",
    "K =np.zeros(5)\n",
    "print(K)"
   ]
  },
  {
   "cell_type": "code",
   "execution_count": 17,
   "id": "7a60d2e1",
   "metadata": {},
   "outputs": [
    {
     "name": "stdout",
     "output_type": "stream",
     "text": [
      "[1. 1. 1. 1. 1.]\n"
     ]
    }
   ],
   "source": [
    "import numpy as np \n",
    "R = np.ones(5)\n",
    "print(R)"
   ]
  },
  {
   "cell_type": "code",
   "execution_count": 18,
   "id": "f49f1fa1",
   "metadata": {},
   "outputs": [
    {
     "name": "stdout",
     "output_type": "stream",
     "text": [
      "[10 20 30 40 50]\n"
     ]
    }
   ],
   "source": [
    "# Mathematical Operations on Arrays \n",
    "\n",
    "import numpy as np\n",
    "K =np.array([10,20,30,40,50])\n",
    "print(K)"
   ]
  },
  {
   "cell_type": "code",
   "execution_count": 19,
   "id": "b021d2a9",
   "metadata": {},
   "outputs": [
    {
     "data": {
      "text/plain": [
       "array([15, 25, 35, 45, 55])"
      ]
     },
     "execution_count": 19,
     "metadata": {},
     "output_type": "execute_result"
    }
   ],
   "source": [
    "K + 5"
   ]
  },
  {
   "cell_type": "code",
   "execution_count": 20,
   "id": "84a01284",
   "metadata": {},
   "outputs": [
    {
     "data": {
      "text/plain": [
       "array([ 5, 15, 25, 35, 45])"
      ]
     },
     "execution_count": 20,
     "metadata": {},
     "output_type": "execute_result"
    }
   ],
   "source": [
    "K - 5"
   ]
  },
  {
   "cell_type": "code",
   "execution_count": 27,
   "id": "1d0aff14",
   "metadata": {},
   "outputs": [
    {
     "data": {
      "text/plain": [
       "array([ 50, 100, 150, 200, 250])"
      ]
     },
     "execution_count": 27,
     "metadata": {},
     "output_type": "execute_result"
    }
   ],
   "source": [
    "K*5"
   ]
  },
  {
   "cell_type": "code",
   "execution_count": 22,
   "id": "7b87a23a",
   "metadata": {},
   "outputs": [
    {
     "data": {
      "text/plain": [
       "array([ 2.,  4.,  6.,  8., 10.])"
      ]
     },
     "execution_count": 22,
     "metadata": {},
     "output_type": "execute_result"
    }
   ],
   "source": [
    "K/5"
   ]
  },
  {
   "cell_type": "code",
   "execution_count": 23,
   "id": "277269b6",
   "metadata": {},
   "outputs": [],
   "source": [
    "# All science is data science. "
   ]
  },
  {
   "cell_type": "code",
   "execution_count": 24,
   "id": "fe0e45c4",
   "metadata": {},
   "outputs": [
    {
     "name": "stdout",
     "output_type": "stream",
     "text": [
      "[[ 2  4  6]\n",
      " [ 6  8 10]]\n"
     ]
    }
   ],
   "source": [
    "# 2D Array Creation Using Numpy \n",
    "\n",
    "import numpy as np \n",
    "X = np.array([[2,4,6],[6,8,10]])\n",
    "print(X)"
   ]
  },
  {
   "cell_type": "code",
   "execution_count": 26,
   "id": "cd43c497",
   "metadata": {},
   "outputs": [
    {
     "name": "stdout",
     "output_type": "stream",
     "text": [
      "1\n",
      "2\n"
     ]
    }
   ],
   "source": [
    "# ndim Attribute \n",
    "A = np.array([5,6,7,9])\n",
    "B = np.array([[2,4,6],[6,8,10]])\n",
    "print(A.ndim) # Number of Rows in Array A \n",
    "print(B.ndim) # Number of Rows in Array B"
   ]
  },
  {
   "cell_type": "code",
   "execution_count": 28,
   "id": "c56661d2",
   "metadata": {},
   "outputs": [],
   "source": [
    "# shape Attribute \n",
    "\n",
    "import numpy as np\n",
    "K = np.array([1,2,3,4,5]) # For 1D array, number of elements "
   ]
  },
  {
   "cell_type": "code",
   "execution_count": 29,
   "id": "b343f438",
   "metadata": {},
   "outputs": [
    {
     "name": "stdout",
     "output_type": "stream",
     "text": [
      "(5,)\n"
     ]
    }
   ],
   "source": [
    "print(K.shape)"
   ]
  },
  {
   "cell_type": "code",
   "execution_count": 30,
   "id": "88bbe59c",
   "metadata": {},
   "outputs": [],
   "source": [
    "import numpy as np \n",
    "X = np.array([[2,4,6],[6,8,10]]) # For 2D array, number of rows and columns"
   ]
  },
  {
   "cell_type": "code",
   "execution_count": 32,
   "id": "1bc8057b",
   "metadata": {},
   "outputs": [
    {
     "name": "stdout",
     "output_type": "stream",
     "text": [
      "(2, 3)\n"
     ]
    }
   ],
   "source": [
    "print(X.shape)"
   ]
  },
  {
   "cell_type": "code",
   "execution_count": 33,
   "id": "52f49e20",
   "metadata": {},
   "outputs": [
    {
     "name": "stdout",
     "output_type": "stream",
     "text": [
      "4\n"
     ]
    }
   ],
   "source": [
    "# size attribute # total number of elements in the array \n",
    "\n",
    "A = np.array([5,6,7,9])\n",
    "print(A.size)"
   ]
  },
  {
   "cell_type": "code",
   "execution_count": 34,
   "id": "6e9ab5bd",
   "metadata": {},
   "outputs": [
    {
     "name": "stdout",
     "output_type": "stream",
     "text": [
      "6\n"
     ]
    }
   ],
   "source": [
    "B = np.array([[2,4,6],[6,8,10]])\n",
    "print(B.size)"
   ]
  },
  {
   "cell_type": "code",
   "execution_count": 35,
   "id": "b8e970cb",
   "metadata": {},
   "outputs": [
    {
     "name": "stdout",
     "output_type": "stream",
     "text": [
      "[[ 4  5  6  7]\n",
      " [ 5  6  7  8]\n",
      " [ 7  8  9 10]]\n"
     ]
    }
   ],
   "source": [
    "# reshape method (to change the shape of the array)\n",
    "\n",
    "import numpy as np \n",
    "D = np.array([[4,5,6,7],[5,6,7,8],[7,8,9,10]])\n",
    "print(D)"
   ]
  },
  {
   "cell_type": "code",
   "execution_count": 36,
   "id": "d6708f5e",
   "metadata": {},
   "outputs": [
    {
     "name": "stdout",
     "output_type": "stream",
     "text": [
      "(3, 4)\n"
     ]
    }
   ],
   "source": [
    "print(D.shape) # (rows, columns)"
   ]
  },
  {
   "cell_type": "code",
   "execution_count": 37,
   "id": "4e4fa9bc",
   "metadata": {},
   "outputs": [],
   "source": [
    "# reshape into (6,2)\n",
    "\n",
    "D1 = D.reshape(6,2)"
   ]
  },
  {
   "cell_type": "code",
   "execution_count": 38,
   "id": "ed58382b",
   "metadata": {},
   "outputs": [
    {
     "name": "stdout",
     "output_type": "stream",
     "text": [
      "[[ 4  5]\n",
      " [ 6  7]\n",
      " [ 5  6]\n",
      " [ 7  8]\n",
      " [ 7  8]\n",
      " [ 9 10]]\n"
     ]
    }
   ],
   "source": [
    "print(D1)"
   ]
  },
  {
   "cell_type": "code",
   "execution_count": 39,
   "id": "dea47379",
   "metadata": {},
   "outputs": [
    {
     "name": "stdout",
     "output_type": "stream",
     "text": [
      "[ 2  3  4 50  8  9 10 11 15]\n"
     ]
    }
   ],
   "source": [
    "# Joins in Array \n",
    "\n",
    "# concatenate() - to join more than one array conditon : array = same shape\n",
    "\n",
    "import numpy as np\n",
    "a = np.array([2,3,4,50])\n",
    "b = ([8,9,10,11,15])\n",
    "c = np.concatenate([a,b])\n",
    "print(c)"
   ]
  },
  {
   "cell_type": "code",
   "execution_count": 41,
   "id": "6d2a5193",
   "metadata": {},
   "outputs": [
    {
     "name": "stdout",
     "output_type": "stream",
     "text": [
      "[ 1  2  3 10 11 12]\n"
     ]
    }
   ],
   "source": [
    "# hstack - to join more than one array horizontally or row wise \n",
    "\n",
    "import numpy as np \n",
    "a = np.array([1,2,3])\n",
    "b = np.array([10,11,12])\n",
    "c = np.hstack((a,b))\n",
    "print(c)"
   ]
  },
  {
   "cell_type": "code",
   "execution_count": 42,
   "id": "66d33cac",
   "metadata": {},
   "outputs": [
    {
     "name": "stdout",
     "output_type": "stream",
     "text": [
      "[[ 1  2  3]\n",
      " [10 11 12]]\n"
     ]
    }
   ],
   "source": [
    "# vstack - to join more than one array vertically or column wise\n",
    "\n",
    "import numpy as np \n",
    "a = np.array([1,2,3])\n",
    "b = np.array([10,11,12])\n",
    "c = np.vstack((a,b))\n",
    "print(c)"
   ]
  },
  {
   "cell_type": "code",
   "execution_count": 43,
   "id": "25959a8c",
   "metadata": {},
   "outputs": [
    {
     "name": "stdout",
     "output_type": "stream",
     "text": [
      "[1 2 3] [99 99] [3 2 1]\n"
     ]
    }
   ],
   "source": [
    "# Split function equal/unequal\n",
    "\n",
    "import numpy as np\n",
    "x =[1,2,3,99,99,3,2,1]\n",
    "x1,x2,x3 = np.split(x,[3,5]) # split the array into 3 subsets - [0:3],[3:5],[5:] # indices between 3 and 5\n",
    "# first sub-array  - elements before index 3 (0,1,2)\n",
    "# second sub-array = elements between indices 3 and 5 \n",
    "# third sub-array = elements after index 5 \n",
    "# Index 3 = 4th elements in the array \n",
    "\n",
    "print(x1,x2,x3)\n"
   ]
  },
  {
   "cell_type": "code",
   "execution_count": null,
   "id": "b709093e",
   "metadata": {},
   "outputs": [],
   "source": []
  }
 ],
 "metadata": {
  "kernelspec": {
   "display_name": "Python 3 (ipykernel)",
   "language": "python",
   "name": "python3"
  },
  "language_info": {
   "codemirror_mode": {
    "name": "ipython",
    "version": 3
   },
   "file_extension": ".py",
   "mimetype": "text/x-python",
   "name": "python",
   "nbconvert_exporter": "python",
   "pygments_lexer": "ipython3",
   "version": "3.9.13"
  }
 },
 "nbformat": 4,
 "nbformat_minor": 5
}
