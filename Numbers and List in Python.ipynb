{
 "cells": [
  {
   "cell_type": "code",
   "execution_count": 1,
   "id": "999c9b3d",
   "metadata": {},
   "outputs": [
    {
     "name": "stdout",
     "output_type": "stream",
     "text": [
      "10\n"
     ]
    }
   ],
   "source": [
    "num = 10\n",
    "print (num)"
   ]
  },
  {
   "cell_type": "code",
   "execution_count": 2,
   "id": "507e54ec",
   "metadata": {},
   "outputs": [
    {
     "data": {
      "text/plain": [
       "int"
      ]
     },
     "execution_count": 2,
     "metadata": {},
     "output_type": "execute_result"
    }
   ],
   "source": [
    "type(num)"
   ]
  },
  {
   "cell_type": "code",
   "execution_count": 3,
   "id": "9794d52c",
   "metadata": {},
   "outputs": [
    {
     "name": "stdout",
     "output_type": "stream",
     "text": [
      "8.6789\n"
     ]
    }
   ],
   "source": [
    "num =8.67890\n",
    "print(num)"
   ]
  },
  {
   "cell_type": "code",
   "execution_count": 4,
   "id": "079e2f7d",
   "metadata": {},
   "outputs": [
    {
     "data": {
      "text/plain": [
       "float"
      ]
     },
     "execution_count": 4,
     "metadata": {},
     "output_type": "execute_result"
    }
   ],
   "source": [
    "type(num)"
   ]
  },
  {
   "cell_type": "code",
   "execution_count": 5,
   "id": "71884aff",
   "metadata": {},
   "outputs": [
    {
     "name": "stdout",
     "output_type": "stream",
     "text": [
      "(2+3j)\n"
     ]
    }
   ],
   "source": [
    "num =2+3j \n",
    "print(num)"
   ]
  },
  {
   "cell_type": "code",
   "execution_count": 6,
   "id": "b46b2d1a",
   "metadata": {},
   "outputs": [
    {
     "data": {
      "text/plain": [
       "complex"
      ]
     },
     "execution_count": 6,
     "metadata": {},
     "output_type": "execute_result"
    }
   ],
   "source": [
    "type(num)"
   ]
  },
  {
   "cell_type": "code",
   "execution_count": 7,
   "id": "674db98b",
   "metadata": {},
   "outputs": [
    {
     "name": "stdout",
     "output_type": "stream",
     "text": [
      "10010010\n"
     ]
    }
   ],
   "source": [
    "num = 10010010\n",
    "print(num)"
   ]
  },
  {
   "cell_type": "code",
   "execution_count": 8,
   "id": "be1396ab",
   "metadata": {},
   "outputs": [
    {
     "data": {
      "text/plain": [
       "int"
      ]
     },
     "execution_count": 8,
     "metadata": {},
     "output_type": "execute_result"
    }
   ],
   "source": [
    "type(num)"
   ]
  },
  {
   "cell_type": "code",
   "execution_count": 9,
   "id": "d7e6f644",
   "metadata": {},
   "outputs": [
    {
     "name": "stdout",
     "output_type": "stream",
     "text": [
      "146\n"
     ]
    }
   ],
   "source": [
    "num = 0b10010010\n",
    "print(num)"
   ]
  },
  {
   "cell_type": "code",
   "execution_count": 10,
   "id": "ce037244",
   "metadata": {},
   "outputs": [
    {
     "name": "stdout",
     "output_type": "stream",
     "text": [
      "251\n"
     ]
    }
   ],
   "source": [
    "print(0xFB)"
   ]
  },
  {
   "cell_type": "code",
   "execution_count": 11,
   "id": "1ba84978",
   "metadata": {},
   "outputs": [
    {
     "name": "stdout",
     "output_type": "stream",
     "text": [
      "13\n"
     ]
    }
   ],
   "source": [
    "print(0o15)"
   ]
  },
  {
   "cell_type": "code",
   "execution_count": 12,
   "id": "d001f549",
   "metadata": {},
   "outputs": [
    {
     "name": "stdout",
     "output_type": "stream",
     "text": [
      "[10, 100, 1000, 10000]\n"
     ]
    }
   ],
   "source": [
    "#Creating List \n",
    "numbers = [10,100,1000,10000]\n",
    "print(numbers)"
   ]
  },
  {
   "cell_type": "code",
   "execution_count": 13,
   "id": "cbfccfee",
   "metadata": {},
   "outputs": [
    {
     "name": "stdout",
     "output_type": "stream",
     "text": [
      "[65.5, 45.2, 78.1, 90.1, 34.3]\n"
     ]
    }
   ],
   "source": [
    "numbers =[65.50, 45.20, 78.10, 90.10, 34.30]\n",
    "print(numbers)"
   ]
  },
  {
   "cell_type": "code",
   "execution_count": 15,
   "id": "a2b71f25",
   "metadata": {},
   "outputs": [
    {
     "name": "stdout",
     "output_type": "stream",
     "text": [
      "['Dhaka', 'Chittagong', 'Noakhali']\n"
     ]
    }
   ],
   "source": [
    "List = ['Dhaka','Chittagong','Noakhali']\n",
    "print(List)"
   ]
  },
  {
   "cell_type": "code",
   "execution_count": 17,
   "id": "c3707e81",
   "metadata": {},
   "outputs": [
    {
     "ename": "SyntaxError",
     "evalue": "invalid syntax (2133217070.py, line 2)",
     "output_type": "error",
     "traceback": [
      "\u001b[1;36m  File \u001b[1;32m\"C:\\Users\\nural\\AppData\\Local\\Temp\\ipykernel_67444\\2133217070.py\"\u001b[1;36m, line \u001b[1;32m2\u001b[0m\n\u001b[1;33m    list = my_list[]\u001b[0m\n\u001b[1;37m                   ^\u001b[0m\n\u001b[1;31mSyntaxError\u001b[0m\u001b[1;31m:\u001b[0m invalid syntax\n"
     ]
    }
   ],
   "source": [
    "#Empty list \n",
    "list = my_list[]\n",
    "print (list)"
   ]
  },
  {
   "cell_type": "code",
   "execution_count": 18,
   "id": "d1925283",
   "metadata": {},
   "outputs": [
    {
     "name": "stdout",
     "output_type": "stream",
     "text": [
      "[10, 'Dhaka', 3.4]\n"
     ]
    }
   ],
   "source": [
    "#List with various data types \n",
    "mixed = [10,'Dhaka',3.40]\n",
    "print(mixed)"
   ]
  },
  {
   "cell_type": "code",
   "execution_count": 19,
   "id": "593079fa",
   "metadata": {},
   "outputs": [
    {
     "name": "stdout",
     "output_type": "stream",
     "text": [
      "[80, 'Banana', 38]\n"
     ]
    }
   ],
   "source": [
    "mixed =[80,'Banana',38]\n",
    "print(mixed)"
   ]
  },
  {
   "cell_type": "code",
   "execution_count": 20,
   "id": "2ca34276",
   "metadata": {},
   "outputs": [
    {
     "name": "stdout",
     "output_type": "stream",
     "text": [
      "['Dhakaia', 'Sylheti', 'Chittagong']\n"
     ]
    }
   ],
   "source": [
    "#Accessing Python List Elements /Positive Indexing \n",
    "languages =['Dhakaia','Sylheti','Chittagong']\n",
    "print(languages)"
   ]
  },
  {
   "cell_type": "code",
   "execution_count": 21,
   "id": "ee0dfb23",
   "metadata": {},
   "outputs": [
    {
     "name": "stdout",
     "output_type": "stream",
     "text": [
      "Dhakaia\n"
     ]
    }
   ],
   "source": [
    "print(languages[0])"
   ]
  },
  {
   "cell_type": "code",
   "execution_count": 22,
   "id": "24d2b97b",
   "metadata": {},
   "outputs": [
    {
     "name": "stdout",
     "output_type": "stream",
     "text": [
      "Sylheti\n"
     ]
    }
   ],
   "source": [
    "print(languages[1])"
   ]
  },
  {
   "cell_type": "code",
   "execution_count": 23,
   "id": "76ebb1f9",
   "metadata": {},
   "outputs": [
    {
     "name": "stdout",
     "output_type": "stream",
     "text": [
      "Chittagong\n"
     ]
    }
   ],
   "source": [
    "print(languages[2])"
   ]
  },
  {
   "cell_type": "code",
   "execution_count": 24,
   "id": "c335d8f9",
   "metadata": {},
   "outputs": [
    {
     "name": "stdout",
     "output_type": "stream",
     "text": [
      "[5.0, 4.8, 5.0, 4.5, 3.75]\n"
     ]
    }
   ],
   "source": [
    "gpa= [5.0, 4.80,5.0,4.50,3.75]\n",
    "print(gpa)"
   ]
  },
  {
   "cell_type": "code",
   "execution_count": 25,
   "id": "30e12914",
   "metadata": {},
   "outputs": [
    {
     "name": "stdout",
     "output_type": "stream",
     "text": [
      "4.5\n"
     ]
    }
   ],
   "source": [
    "print(gpa[3])"
   ]
  },
  {
   "cell_type": "code",
   "execution_count": 26,
   "id": "5432af7a",
   "metadata": {},
   "outputs": [
    {
     "name": "stdout",
     "output_type": "stream",
     "text": [
      "3.75\n"
     ]
    }
   ],
   "source": [
    "print(gpa[4])"
   ]
  },
  {
   "cell_type": "code",
   "execution_count": 28,
   "id": "45075777",
   "metadata": {},
   "outputs": [
    {
     "name": "stdout",
     "output_type": "stream",
     "text": [
      "5.0\n"
     ]
    }
   ],
   "source": [
    "print(gpa[0])"
   ]
  },
  {
   "cell_type": "code",
   "execution_count": 29,
   "id": "5d8cb869",
   "metadata": {},
   "outputs": [
    {
     "name": "stdout",
     "output_type": "stream",
     "text": [
      "['Dhakaia', 'Sylheti', 'Chittagong']\n"
     ]
    }
   ],
   "source": [
    "#Negative Indexing \n",
    "\n",
    "languages =['Dhakaia','Sylheti','Chittagong']\n",
    "print(languages)\n"
   ]
  },
  {
   "cell_type": "code",
   "execution_count": 30,
   "id": "1ba6c85f",
   "metadata": {},
   "outputs": [
    {
     "name": "stdout",
     "output_type": "stream",
     "text": [
      "Chittagong\n"
     ]
    }
   ],
   "source": [
    "print(languages[-1])"
   ]
  },
  {
   "cell_type": "code",
   "execution_count": 31,
   "id": "4a4e8c85",
   "metadata": {},
   "outputs": [
    {
     "name": "stdout",
     "output_type": "stream",
     "text": [
      "Sylheti\n"
     ]
    }
   ],
   "source": [
    "print(languages[-2])"
   ]
  },
  {
   "cell_type": "code",
   "execution_count": 32,
   "id": "7b2c0c7b",
   "metadata": {},
   "outputs": [
    {
     "name": "stdout",
     "output_type": "stream",
     "text": [
      "Dhakaia\n"
     ]
    }
   ],
   "source": [
    "print(languages[-3])"
   ]
  },
  {
   "cell_type": "code",
   "execution_count": 33,
   "id": "d210e221",
   "metadata": {},
   "outputs": [
    {
     "name": "stdout",
     "output_type": "stream",
     "text": [
      "[5.0, 4.8, 5.0, 4.5, 3.75]\n"
     ]
    }
   ],
   "source": [
    "gpa= [5.0, 4.80,5.0,4.50,3.75]\n",
    "print(gpa)"
   ]
  },
  {
   "cell_type": "code",
   "execution_count": 44,
   "id": "218106e7",
   "metadata": {},
   "outputs": [
    {
     "name": "stdout",
     "output_type": "stream",
     "text": [
      "3.75\n"
     ]
    }
   ],
   "source": [
    "print(gpa[-1])"
   ]
  },
  {
   "cell_type": "code",
   "execution_count": 35,
   "id": "5569f6f1",
   "metadata": {},
   "outputs": [
    {
     "name": "stdout",
     "output_type": "stream",
     "text": [
      "4.5\n"
     ]
    }
   ],
   "source": [
    "print(gpa[-2])"
   ]
  },
  {
   "cell_type": "code",
   "execution_count": 36,
   "id": "ecabf8a6",
   "metadata": {},
   "outputs": [
    {
     "name": "stdout",
     "output_type": "stream",
     "text": [
      "5.0\n"
     ]
    }
   ],
   "source": [
    "print(gpa[-3])"
   ]
  },
  {
   "cell_type": "code",
   "execution_count": 37,
   "id": "994ab7e4",
   "metadata": {},
   "outputs": [
    {
     "name": "stdout",
     "output_type": "stream",
     "text": [
      "4.8\n"
     ]
    }
   ],
   "source": [
    "print(gpa[-4])"
   ]
  },
  {
   "cell_type": "code",
   "execution_count": 38,
   "id": "4ad0abdc",
   "metadata": {},
   "outputs": [
    {
     "name": "stdout",
     "output_type": "stream",
     "text": [
      "5.0\n"
     ]
    }
   ],
   "source": [
    "print(gpa[-5])"
   ]
  },
  {
   "cell_type": "code",
   "execution_count": 45,
   "id": "843afaaf",
   "metadata": {},
   "outputs": [
    {
     "name": "stdout",
     "output_type": "stream",
     "text": [
      "['Dhaka', 'Chittagong', 'Noakhali', 'Rajshahi', 'Rangpur', 'Sylhet', 'Bogura', 'Dinajpur']\n"
     ]
    }
   ],
   "source": [
    "#Slicing List \n",
    "\n",
    "Cities = ['Dhaka','Chittagong','Noakhali','Rajshahi','Rangpur','Sylhet','Bogura','Dinajpur']\n",
    "print(Cities)"
   ]
  },
  {
   "cell_type": "code",
   "execution_count": 46,
   "id": "2af9cb06",
   "metadata": {},
   "outputs": [
    {
     "name": "stdout",
     "output_type": "stream",
     "text": [
      "['Noakhali', 'Rajshahi']\n"
     ]
    }
   ],
   "source": [
    "print(Cities[2:4])"
   ]
  },
  {
   "cell_type": "code",
   "execution_count": 47,
   "id": "18e298fb",
   "metadata": {},
   "outputs": [
    {
     "name": "stdout",
     "output_type": "stream",
     "text": [
      "['Noakhali', 'Rajshahi', 'Rangpur', 'Sylhet', 'Bogura']\n"
     ]
    }
   ],
   "source": [
    "print(Cities[2:7])"
   ]
  },
  {
   "cell_type": "code",
   "execution_count": 48,
   "id": "2e2cd92e",
   "metadata": {},
   "outputs": [
    {
     "name": "stdout",
     "output_type": "stream",
     "text": [
      "['Dhaka', 'Chittagong', 'Noakhali', 'Rajshahi', 'Rangpur', 'Sylhet', 'Bogura']\n"
     ]
    }
   ],
   "source": [
    "print(Cities[0:7])"
   ]
  },
  {
   "cell_type": "code",
   "execution_count": 49,
   "id": "d727717d",
   "metadata": {},
   "outputs": [
    {
     "name": "stdout",
     "output_type": "stream",
     "text": [
      "[70, 80, 90, 100, 150]\n"
     ]
    }
   ],
   "source": [
    "#Adding Elements to List Using Append \n",
    "\n",
    "numbers =[70,80,90,100,150]\n",
    "print(numbers)"
   ]
  },
  {
   "cell_type": "code",
   "execution_count": 50,
   "id": "60d3361f",
   "metadata": {},
   "outputs": [
    {
     "name": "stdout",
     "output_type": "stream",
     "text": [
      "[70, 80, 90, 100, 150, 180]\n"
     ]
    }
   ],
   "source": [
    "numbers.append(180)\n",
    "print(numbers)"
   ]
  },
  {
   "cell_type": "code",
   "execution_count": 51,
   "id": "b6bd3e75",
   "metadata": {},
   "outputs": [
    {
     "name": "stdout",
     "output_type": "stream",
     "text": [
      "['Dhaka', 'Chittagong', 'Rajshahi']\n"
     ]
    }
   ],
   "source": [
    "cities = ['Dhaka','Chittagong','Rajshahi']\n",
    "print(cities)"
   ]
  },
  {
   "cell_type": "code",
   "execution_count": 53,
   "id": "b8149ff3",
   "metadata": {},
   "outputs": [
    {
     "name": "stdout",
     "output_type": "stream",
     "text": [
      "['Dhaka', 'Chittagong', 'Rajshahi', 'Noakhali']\n"
     ]
    }
   ],
   "source": [
    "cities.append('Noakhali')\n",
    "print(cities)"
   ]
  },
  {
   "cell_type": "code",
   "execution_count": 54,
   "id": "4f1c0bc2",
   "metadata": {},
   "outputs": [
    {
     "name": "stdout",
     "output_type": "stream",
     "text": [
      "[2, 4, 6]\n"
     ]
    }
   ],
   "source": [
    "#Adding Elements to List Using Extend \n",
    "\n",
    "num1=[2,4,6]\n",
    "print(num1)"
   ]
  },
  {
   "cell_type": "code",
   "execution_count": 55,
   "id": "4ad7d08e",
   "metadata": {},
   "outputs": [
    {
     "name": "stdout",
     "output_type": "stream",
     "text": [
      "[1, 3, 5]\n"
     ]
    }
   ],
   "source": [
    "num2 =[1,3,5]\n",
    "print(num2)"
   ]
  },
  {
   "cell_type": "code",
   "execution_count": 56,
   "id": "8a6d2756",
   "metadata": {},
   "outputs": [
    {
     "name": "stdout",
     "output_type": "stream",
     "text": [
      "[2, 4, 6, 1, 3, 5]\n"
     ]
    }
   ],
   "source": [
    "num1.extend(num2)\n",
    "print(num1)"
   ]
  },
  {
   "cell_type": "code",
   "execution_count": 58,
   "id": "00fff6ae",
   "metadata": {},
   "outputs": [
    {
     "name": "stdout",
     "output_type": "stream",
     "text": [
      "[2, 4, 6, 1, 3, 5]\n"
     ]
    }
   ],
   "source": [
    "num2.extend(num1)\n",
    "print(num1)"
   ]
  },
  {
   "cell_type": "code",
   "execution_count": 59,
   "id": "1d424758",
   "metadata": {},
   "outputs": [
    {
     "name": "stdout",
     "output_type": "stream",
     "text": [
      "['Dhaka', 'Chittagong', 'Noakhali', 'Rajshahi', 'Rangpur', 'Sylhet', 'Bogura', 'Dinajpur']\n"
     ]
    }
   ],
   "source": [
    "#Removing Elements from Python \n",
    "\n",
    "Cities = ['Dhaka','Chittagong','Noakhali','Rajshahi','Rangpur','Sylhet','Bogura','Dinajpur']\n",
    "print(Cities)"
   ]
  },
  {
   "cell_type": "code",
   "execution_count": 60,
   "id": "e48f05bb",
   "metadata": {},
   "outputs": [
    {
     "name": "stdout",
     "output_type": "stream",
     "text": [
      "['Dhaka', 'Chittagong', 'Noakhali', 'Rajshahi', 'Rangpur', 'Sylhet', 'Dinajpur']\n"
     ]
    }
   ],
   "source": [
    "Cities.remove('Bogura')\n",
    "print(Cities)"
   ]
  },
  {
   "cell_type": "code",
   "execution_count": 61,
   "id": "2440730e",
   "metadata": {},
   "outputs": [
    {
     "name": "stdout",
     "output_type": "stream",
     "text": [
      "['Dhaka', 'Chittagong', 'Noakhali', 'Rajshahi', 'Rangpur', 'Sylhet', 'Bogura', 'Dinajpur']\n"
     ]
    }
   ],
   "source": [
    "#Slice vs Remove \n",
    "Cities = ['Dhaka','Chittagong','Noakhali','Rajshahi','Rangpur','Sylhet','Bogura','Dinajpur']\n",
    "print(Cities)"
   ]
  },
  {
   "cell_type": "code",
   "execution_count": 62,
   "id": "2aceb02d",
   "metadata": {},
   "outputs": [
    {
     "name": "stdout",
     "output_type": "stream",
     "text": [
      "['Dhaka', 'Chittagong', 'Noakhali', 'Rajshahi', 'Rangpur']\n"
     ]
    }
   ],
   "source": [
    "print(Cities[0:5])"
   ]
  },
  {
   "cell_type": "code",
   "execution_count": 63,
   "id": "edb6342b",
   "metadata": {},
   "outputs": [
    {
     "name": "stdout",
     "output_type": "stream",
     "text": [
      "['Dhaka', 'Chittagong', 'Noakhali', 'Rangpur', 'Sylhet', 'Bogura', 'Dinajpur']\n"
     ]
    }
   ],
   "source": [
    "Cities.remove('Rajshahi')\n",
    "print(Cities)"
   ]
  },
  {
   "cell_type": "code",
   "execution_count": null,
   "id": "38e955c2",
   "metadata": {},
   "outputs": [],
   "source": []
  }
 ],
 "metadata": {
  "kernelspec": {
   "display_name": "Python 3 (ipykernel)",
   "language": "python",
   "name": "python3"
  },
  "language_info": {
   "codemirror_mode": {
    "name": "ipython",
    "version": 3
   },
   "file_extension": ".py",
   "mimetype": "text/x-python",
   "name": "python",
   "nbconvert_exporter": "python",
   "pygments_lexer": "ipython3",
   "version": "3.9.13"
  }
 },
 "nbformat": 4,
 "nbformat_minor": 5
}
